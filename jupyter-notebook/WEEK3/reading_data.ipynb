{
 "cells": [
  {
   "cell_type": "markdown",
   "id": "e8d06793-f49f-47a4-9850-0ed061feed2d",
   "metadata": {},
   "source": [
    "# File Format\n",
    "- Standard way in which data is collected and stored.\n",
    "- Most commonly used format for storing data is the spreadsheet format where data is stored in rows and columns.\n",
    "     - Each row is called a record or sample.\n",
    "     - Each column represents a variable and holds data belonging to same data type.\n",
    "- comma separated values, excel sheet, text, json, html, mp3, mp4 etc."
   ]
  },
  {
   "cell_type": "markdown",
   "id": "67b876b9-ea3d-42ac-a3b1-d78e1befb581",
   "metadata": {},
   "source": [
    "## Comma separated values\n",
    "- spreadsheet format\n",
    "- Format '.csv'\n",
    "- Each record is separated by a comma."
   ]
  },
  {
   "cell_type": "markdown",
   "id": "dc5ca903-524f-46d2-9709-c2f376268825",
   "metadata": {},
   "source": [
    "## Excel spreadsheets\n",
    "- spreadsheet format\n",
    "- part of microsoft office\n",
    "- format '.xlsx'"
   ]
  },
  {
   "cell_type": "markdown",
   "id": "245f0815-d504-4633-b45d-338cc75f5812",
   "metadata": {},
   "source": [
    "## Text format\n",
    "- consists of plain text or records\n",
    "- Format '.txt'"
   ]
  },
  {
   "cell_type": "markdown",
   "id": "2c2c2396-039d-46e8-b075-dc8c6bbf128b",
   "metadata": {},
   "source": [
    "# Importing data"
   ]
  },
  {
   "cell_type": "markdown",
   "id": "b4091c40-d92d-44ac-82cb-f56d94305bff",
   "metadata": {},
   "source": [
    "## Comma separated values"
   ]
  },
  {
   "cell_type": "code",
   "execution_count": 1,
   "id": "0017ab51-eefc-4b53-9096-9111b2b92bc4",
   "metadata": {},
   "outputs": [],
   "source": [
    "#importing necessary libraries\n",
    "import os\n",
    "import pandas as pd"
   ]
  },
  {
   "cell_type": "code",
   "execution_count": 2,
   "id": "62f76ec9-dec3-4266-98c1-ba0972f0615d",
   "metadata": {},
   "outputs": [],
   "source": [
    "# importing data\n",
    "data_csv = pd.read_csv('Iris.csv')"
   ]
  },
  {
   "cell_type": "code",
   "execution_count": 3,
   "id": "494cfed6-e362-44fb-a253-40e2e4970368",
   "metadata": {},
   "outputs": [],
   "source": [
    "# blank cells read as 'nan'"
   ]
  },
  {
   "cell_type": "code",
   "execution_count": 6,
   "id": "78d3e2af-19d7-46be-b1b3-e568289e25f9",
   "metadata": {},
   "outputs": [],
   "source": [
    "# print(data_csv.to_string())"
   ]
  },
  {
   "cell_type": "code",
   "execution_count": 11,
   "id": "9eaa6459-8a11-4133-b79f-04ccc908c5bd",
   "metadata": {},
   "outputs": [],
   "source": [
    "# removing the extra id column by passing index_col=0\n",
    "data_csv = pd.read_csv('Iris.csv',index_col=0)"
   ]
  },
  {
   "cell_type": "code",
   "execution_count": 13,
   "id": "920ea5f0-2e02-40ed-b552-1dab6fa5b6a2",
   "metadata": {},
   "outputs": [
    {
     "name": "stdout",
     "output_type": "stream",
     "text": [
      "   SepalLengthCm SepalWidthCm PetalLengthCm  PetalWidthCm      Species\n",
      "Id                                                                    \n",
      "1            5.1          3.5           1.4           0.2  Iris-setosa\n",
      "2            4.9            3           1.4           0.2  Iris-setosa\n",
      "3            4.7          3.2           1.3           0.2  Iris-setosa\n",
      "4            4.6          3.1           1.5           0.2  Iris-setosa\n",
      "5              5          3.6           1.4           0.2  Iris-setosa\n"
     ]
    }
   ],
   "source": [
    "print(data_csv.head())"
   ]
  },
  {
   "cell_type": "code",
   "execution_count": 14,
   "id": "9bcb9ba1-aeeb-494a-9c4c-d1a850b9f0d6",
   "metadata": {},
   "outputs": [],
   "source": [
    "# junk values can be converted to missing values by passing them as a list to the parameter 'na_values'"
   ]
  },
  {
   "cell_type": "code",
   "execution_count": 15,
   "id": "fc3e77e2-5117-4794-9401-e3a9b80951ac",
   "metadata": {},
   "outputs": [],
   "source": [
    "data_csv = pd.read_csv('Iris.csv',index_col=0,na_values=['??','###']);"
   ]
  },
  {
   "cell_type": "code",
   "execution_count": 2,
   "id": "1362a196-ac44-4b80-a886-b18d83e3cf41",
   "metadata": {},
   "outputs": [],
   "source": [
    "# print(data_csv.to_string())"
   ]
  },
  {
   "cell_type": "markdown",
   "id": "493d58e2-9b1e-47ad-b134-b86bf02caac2",
   "metadata": {},
   "source": [
    "## Excel spreadsheets"
   ]
  },
  {
   "cell_type": "code",
   "execution_count": 19,
   "id": "f81e61ba-bba8-4b8e-b854-f9c9e28e2d5c",
   "metadata": {},
   "outputs": [
    {
     "name": "stdout",
     "output_type": "stream",
     "text": [
      "Collecting openpyxl\n",
      "  Obtaining dependency information for openpyxl from https://files.pythonhosted.org/packages/6a/94/a59521de836ef0da54aaf50da6c4da8fb4072fb3053fa71f052fd9399e7a/openpyxl-3.1.2-py2.py3-none-any.whl.metadata\n",
      "  Downloading openpyxl-3.1.2-py2.py3-none-any.whl.metadata (2.5 kB)\n",
      "Collecting et-xmlfile (from openpyxl)\n",
      "  Obtaining dependency information for et-xmlfile from https://files.pythonhosted.org/packages/96/c2/3dd434b0108730014f1b96fd286040dc3bcb70066346f7e01ec2ac95865f/et_xmlfile-1.1.0-py3-none-any.whl.metadata\n",
      "  Downloading et_xmlfile-1.1.0-py3-none-any.whl.metadata (1.8 kB)\n",
      "Downloading openpyxl-3.1.2-py2.py3-none-any.whl (249 kB)\n",
      "   ---------------------------------------- 0.0/250.0 kB ? eta -:--:--\n",
      "   ---------------------------------------- 0.0/250.0 kB ? eta -:--:--\n",
      "   ---- ----------------------------------- 30.7/250.0 kB ? eta -:--:--\n",
      "   ---- ----------------------------------- 30.7/250.0 kB ? eta -:--:--\n",
      "   ------ -------------------------------- 41.0/250.0 kB 330.3 kB/s eta 0:00:01\n",
      "   ------ -------------------------------- 41.0/250.0 kB 330.3 kB/s eta 0:00:01\n",
      "   ------------------ ------------------- 122.9/250.0 kB 554.9 kB/s eta 0:00:01\n",
      "   --------------------- ---------------- 143.4/250.0 kB 610.6 kB/s eta 0:00:01\n",
      "   --------------------- ---------------- 143.4/250.0 kB 610.6 kB/s eta 0:00:01\n",
      "   --------------------- ---------------- 143.4/250.0 kB 610.6 kB/s eta 0:00:01\n",
      "   --------------------- ---------------- 143.4/250.0 kB 610.6 kB/s eta 0:00:01\n",
      "   -------------------------------------- 250.0/250.0 kB 569.5 kB/s eta 0:00:00\n",
      "Downloading et_xmlfile-1.1.0-py3-none-any.whl (4.7 kB)\n",
      "Installing collected packages: et-xmlfile, openpyxl\n",
      "Successfully installed et-xmlfile-1.1.0 openpyxl-3.1.2\n"
     ]
    }
   ],
   "source": [
    "!pip install openpyxl"
   ]
  },
  {
   "cell_type": "code",
   "execution_count": 20,
   "id": "eb79735b-f3ff-4ecd-b486-8b4c6dd92ea4",
   "metadata": {},
   "outputs": [],
   "source": [
    "# importing data\n",
    "data_xlsx = pd.read_excel('Iris.xlsx',sheet_name='Iris_data')"
   ]
  },
  {
   "cell_type": "code",
   "execution_count": 3,
   "id": "05044f67-7de9-4d4b-8942-e25dee4746ac",
   "metadata": {},
   "outputs": [],
   "source": [
    "# print(data_xlsx.to_string())"
   ]
  },
  {
   "cell_type": "code",
   "execution_count": 24,
   "id": "95aec088-29fb-4a3d-8c9a-f5577dc3f3a8",
   "metadata": {},
   "outputs": [],
   "source": [
    "data_xlsx = pd.read_excel('Iris.xlsx',index_col=0,na_values=['??','###'])"
   ]
  },
  {
   "cell_type": "code",
   "execution_count": 4,
   "id": "774dac66-1af8-43a4-94a9-21a50e831530",
   "metadata": {},
   "outputs": [],
   "source": [
    "# print(data_xlsx.to_string())"
   ]
  },
  {
   "cell_type": "code",
   "execution_count": 26,
   "id": "5cf21119-3ab0-407b-a11e-b5cda898e293",
   "metadata": {},
   "outputs": [],
   "source": [
    "data_txt = pd.read_table('Iris.txt')"
   ]
  },
  {
   "cell_type": "code",
   "execution_count": 5,
   "id": "741fdaf9-8f2c-4e57-a949-a4ef95212a8e",
   "metadata": {},
   "outputs": [],
   "source": [
    "# print(data_txt.to_string())"
   ]
  },
  {
   "cell_type": "code",
   "execution_count": 39,
   "id": "1c247ec7-45ad-4edf-b2c8-55b65063abe0",
   "metadata": {},
   "outputs": [
    {
     "name": "stdout",
     "output_type": "stream",
     "text": [
      "    Id      SepalLengthCmSepalWidthCmPetalLengthCmPetalWidthCmSpecies\n",
      "0                                                  ...               \n",
      "1          1            5.1         3.5          1....               \n",
      "2                                                  ...               \n",
      "3          2            4.9           3          1....               \n",
      "4                                                  ...               \n",
      "..                                                 ...               \n",
      "299                                              Iris-               \n",
      "300            149         3.4      5.4   2.3virginica               \n",
      "301                                              Iris-               \n",
      "302            150   5.9   3.4      5.1   1.8virginica               \n",
      "303                                                 \f",
      "\f",
      "               \n",
      "\n",
      "[304 rows x 1 columns]\n"
     ]
    }
   ],
   "source": [
    "data_txt = pd.read_csv('Iris.txt')\n",
    "print(data_txt)"
   ]
  },
  {
   "cell_type": "code",
   "execution_count": null,
   "id": "13738931-0240-445a-9db3-cbe2af370669",
   "metadata": {},
   "outputs": [],
   "source": []
  }
 ],
 "metadata": {
  "kernelspec": {
   "display_name": "Python 3 (ipykernel)",
   "language": "python",
   "name": "python3"
  },
  "language_info": {
   "codemirror_mode": {
    "name": "ipython",
    "version": 3
   },
   "file_extension": ".py",
   "mimetype": "text/x-python",
   "name": "python",
   "nbconvert_exporter": "python",
   "pygments_lexer": "ipython3",
   "version": "3.11.5"
  }
 },
 "nbformat": 4,
 "nbformat_minor": 5
}
