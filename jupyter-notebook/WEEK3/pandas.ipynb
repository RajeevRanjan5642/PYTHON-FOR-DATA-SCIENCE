{
 "cells": [
  {
   "cell_type": "markdown",
   "id": "258cd265-74c3-4078-aa6c-1abcc327eb61",
   "metadata": {},
   "source": [
    "# Pandas\n",
    "- Open source Python library providing high-performance data manipulation and analysis tool using its powerful data structures.\n",
    "- Pandas is derived from the word Panel Data - an econometrics term for multidimensional data"
   ]
  },
  {
   "cell_type": "markdown",
   "id": "c45bb1d0-6ec4-4901-b148-0e75cdabc96f",
   "metadata": {},
   "source": [
    "## Dataframes\n",
    "- Two-dimensional size\n",
    "- mutable\n",
    "- potentially heterogeneous tabular data structure with labeled axes (row indices and column names)"
   ]
  },
  {
   "cell_type": "markdown",
   "id": "624ae699-45dc-4bf2-abcb-feaa1f9c2393",
   "metadata": {},
   "source": [
    "### importing necessary libraries"
   ]
  },
  {
   "cell_type": "code",
   "execution_count": 2,
   "id": "fd238e01-3236-4eaf-b13c-8e5c543179dc",
   "metadata": {},
   "outputs": [],
   "source": [
    "import os\n",
    "import pandas as pd # to work with dataframes\n",
    "import numpy as np # to perform numeric computations"
   ]
  },
  {
   "cell_type": "markdown",
   "id": "80412c06-ad54-4aeb-b012-5e6a9e3b31b0",
   "metadata": {},
   "source": [
    "### importing data"
   ]
  },
  {
   "cell_type": "code",
   "execution_count": 3,
   "id": "54873993-eb44-41ca-bdeb-55cc1f673503",
   "metadata": {},
   "outputs": [],
   "source": [
    "cars_data = pd.read_csv('Toyota.csv')"
   ]
  },
  {
   "cell_type": "code",
   "execution_count": 4,
   "id": "6d411d61-6cc3-4a30-8b13-a2d483edaf2b",
   "metadata": {},
   "outputs": [
    {
     "name": "stdout",
     "output_type": "stream",
     "text": [
      "   Unnamed: 0  Price   Age     KM FuelType  HP  MetColor  Automatic    CC  \\\n",
      "0           0  13500  23.0  46986   Diesel  90       1.0          0  2000   \n",
      "1           1  13750  23.0  72937   Diesel  90       1.0          0  2000   \n",
      "2           2  13950  24.0  41711   Diesel  90       NaN          0  2000   \n",
      "3           3  14950  26.0  48000   Diesel  90       0.0          0  2000   \n",
      "4           4  13750  30.0  38500   Diesel  90       0.0          0  2000   \n",
      "\n",
      "   Doors  Weight  \n",
      "0  three    1165  \n",
      "1      3    1165  \n",
      "2      3    1165  \n",
      "3      3    1165  \n",
      "4      3    1170  \n"
     ]
    }
   ],
   "source": [
    "print(cars_data.head())"
   ]
  },
  {
   "cell_type": "code",
   "execution_count": 5,
   "id": "5cd02ff3-33cb-4fcf-a731-f17868d27cb8",
   "metadata": {},
   "outputs": [],
   "source": [
    "cars_data = pd.read_csv('Toyota.csv',index_col=0)"
   ]
  },
  {
   "cell_type": "code",
   "execution_count": 6,
   "id": "8aedba5b-42fc-41a8-9b9c-6494aea135af",
   "metadata": {},
   "outputs": [
    {
     "name": "stdout",
     "output_type": "stream",
     "text": [
      "   Price   Age     KM FuelType  HP  MetColor  Automatic    CC  Doors  Weight\n",
      "0  13500  23.0  46986   Diesel  90       1.0          0  2000  three    1165\n",
      "1  13750  23.0  72937   Diesel  90       1.0          0  2000      3    1165\n",
      "2  13950  24.0  41711   Diesel  90       NaN          0  2000      3    1165\n",
      "3  14950  26.0  48000   Diesel  90       0.0          0  2000      3    1165\n",
      "4  13750  30.0  38500   Diesel  90       0.0          0  2000      3    1170\n"
     ]
    }
   ],
   "source": [
    "print(cars_data.head())"
   ]
  },
  {
   "cell_type": "markdown",
   "id": "b029f5fc-b9b9-4cd6-955f-32c31b03650a",
   "metadata": {},
   "source": [
    "### creating copy of original data\n",
    "- In python there are 2 ways to create copies\n",
    "   1. Shallow copy\n",
    "   2. Deep copy"
   ]
  },
  {
   "cell_type": "markdown",
   "id": "34a6e9b0-66b7-4f4e-9750-5ae9a79c302c",
   "metadata": {},
   "source": [
    "#### shallow copy\n",
    "- sample = cars_data.copy(deep=False)\n",
    "- sample = cars_data\n",
    "- It only creates a new variable that shares the reference of the original object.\n",
    "- Any changes made to a copy of object will be reflected in the original object as well."
   ]
  },
  {
   "cell_type": "markdown",
   "id": "14f26545-5071-401c-89c9-dab07522dfc4",
   "metadata": {},
   "source": [
    "#### deep copy\n",
    "- sample = cars_data.copy(deep=True)\n",
    "- A copy of object is copied in other object with no reference to the original.\n",
    "- Any changes made to a copy of object will not be reflected in the original object."
   ]
  },
  {
   "cell_type": "code",
   "execution_count": 8,
   "id": "1bcaf323-8e15-42b3-8cc4-c1b65a2a2a75",
   "metadata": {},
   "outputs": [],
   "source": [
    "# creating a deep copy\n",
    "cars_data1 = cars_data.copy()"
   ]
  },
  {
   "cell_type": "markdown",
   "id": "dde7bf1a-40a4-400f-9a4f-4d980cd820ef",
   "metadata": {},
   "source": [
    "### Attributes of data"
   ]
  },
  {
   "cell_type": "markdown",
   "id": "a54a9744-491b-4d41-bffd-26f98c3c0efe",
   "metadata": {},
   "source": [
    "#### DataFrame.index : To get the index (row labels) of the dataframe."
   ]
  },
  {
   "cell_type": "code",
   "execution_count": 9,
   "id": "be5d4d65-c282-4173-a92e-cb3b338a847d",
   "metadata": {},
   "outputs": [
    {
     "name": "stdout",
     "output_type": "stream",
     "text": [
      "Index([   0,    1,    2,    3,    4,    5,    6,    7,    8,    9,\n",
      "       ...\n",
      "       1426, 1427, 1428, 1429, 1430, 1431, 1432, 1433, 1434, 1435],\n",
      "      dtype='int64', length=1436)\n"
     ]
    }
   ],
   "source": [
    "print(cars_data1.index)"
   ]
  },
  {
   "cell_type": "markdown",
   "id": "a866c192-cb42-4329-8c05-eab10ead85a1",
   "metadata": {},
   "source": [
    "#### DataFrame.columns : To get the column labels of the dataframe"
   ]
  },
  {
   "cell_type": "code",
   "execution_count": 10,
   "id": "7dfdf9eb-3018-40ad-861b-4e0d44db6f0c",
   "metadata": {},
   "outputs": [
    {
     "name": "stdout",
     "output_type": "stream",
     "text": [
      "Index(['Price', 'Age', 'KM', 'FuelType', 'HP', 'MetColor', 'Automatic', 'CC',\n",
      "       'Doors', 'Weight'],\n",
      "      dtype='object')\n"
     ]
    }
   ],
   "source": [
    "print(cars_data1.columns)"
   ]
  },
  {
   "cell_type": "markdown",
   "id": "1d01a3fc-d393-4ac2-910d-6c393d05ff43",
   "metadata": {},
   "source": [
    "#### Dataframe.size : To get the total number of elements from the dataframe"
   ]
  },
  {
   "cell_type": "code",
   "execution_count": 11,
   "id": "e6e30754-f5c4-4b02-aa74-c06818e2a9ee",
   "metadata": {},
   "outputs": [
    {
     "data": {
      "text/plain": [
       "14360"
      ]
     },
     "execution_count": 11,
     "metadata": {},
     "output_type": "execute_result"
    }
   ],
   "source": [
    "cars_data1.size"
   ]
  },
  {
   "cell_type": "markdown",
   "id": "89cb8ebf-ded7-486e-9a11-4b4895c1b719",
   "metadata": {},
   "source": [
    "#### DataFrame.shape : To get the dimensionality of the dataframe"
   ]
  },
  {
   "cell_type": "code",
   "execution_count": 12,
   "id": "272f26f8-139c-4364-904d-8e4c0e56bb36",
   "metadata": {},
   "outputs": [
    {
     "data": {
      "text/plain": [
       "(1436, 10)"
      ]
     },
     "execution_count": 12,
     "metadata": {},
     "output_type": "execute_result"
    }
   ],
   "source": [
    "cars_data1.shape"
   ]
  },
  {
   "cell_type": "code",
   "execution_count": 13,
   "id": "cc9e42a2-0d06-4cad-8a64-d213b225a12d",
   "metadata": {},
   "outputs": [],
   "source": [
    "# no. of rows = 1436\n",
    "# no. of cols = 10"
   ]
  },
  {
   "cell_type": "markdown",
   "id": "3a345c05-ec06-46d6-80db-0906615267af",
   "metadata": {},
   "source": [
    "#### DataFrame.memory_usage() : To get the memory usage of each col in bytes"
   ]
  },
  {
   "cell_type": "code",
   "execution_count": 14,
   "id": "837c1cc4-0609-4fe0-8027-61bc7a49772f",
   "metadata": {},
   "outputs": [
    {
     "data": {
      "text/plain": [
       "Index        11488\n",
       "Price        11488\n",
       "Age          11488\n",
       "KM           11488\n",
       "FuelType     11488\n",
       "HP           11488\n",
       "MetColor     11488\n",
       "Automatic    11488\n",
       "CC           11488\n",
       "Doors        11488\n",
       "Weight       11488\n",
       "dtype: int64"
      ]
     },
     "execution_count": 14,
     "metadata": {},
     "output_type": "execute_result"
    }
   ],
   "source": [
    "cars_data1.memory_usage()"
   ]
  },
  {
   "cell_type": "markdown",
   "id": "78900195-a5a7-46bc-9a32-50cf4daa5d04",
   "metadata": {},
   "source": [
    "#### DataFrame.ndim : The number of axes/array dimensions"
   ]
  },
  {
   "cell_type": "code",
   "execution_count": 15,
   "id": "deccc3f7-5d65-4614-b011-52b9e65d6004",
   "metadata": {},
   "outputs": [
    {
     "data": {
      "text/plain": [
       "2"
      ]
     },
     "execution_count": 15,
     "metadata": {},
     "output_type": "execute_result"
    }
   ],
   "source": [
    "cars_data1.ndim"
   ]
  },
  {
   "cell_type": "code",
   "execution_count": 16,
   "id": "b38545c2-e228-436a-a4fa-d91e68bd6691",
   "metadata": {},
   "outputs": [],
   "source": [
    "# A two dimensional array stores data in rows and coumns."
   ]
  },
  {
   "cell_type": "markdown",
   "id": "c6bd41e2-33b2-4ddb-9237-eb8302a58347",
   "metadata": {},
   "source": [
    "### Indexing and selecting data"
   ]
  },
  {
   "cell_type": "markdown",
   "id": "921580f7-e072-4289-b506-5165d1ba764a",
   "metadata": {},
   "source": [
    "#### DataFrame.head(n) : returns first n rows from the dataframe"
   ]
  },
  {
   "cell_type": "code",
   "execution_count": 17,
   "id": "b483b9ad-91ec-489c-927f-0d12f562a8ac",
   "metadata": {},
   "outputs": [
    {
     "data": {
      "text/html": [
       "<div>\n",
       "<style scoped>\n",
       "    .dataframe tbody tr th:only-of-type {\n",
       "        vertical-align: middle;\n",
       "    }\n",
       "\n",
       "    .dataframe tbody tr th {\n",
       "        vertical-align: top;\n",
       "    }\n",
       "\n",
       "    .dataframe thead th {\n",
       "        text-align: right;\n",
       "    }\n",
       "</style>\n",
       "<table border=\"1\" class=\"dataframe\">\n",
       "  <thead>\n",
       "    <tr style=\"text-align: right;\">\n",
       "      <th></th>\n",
       "      <th>Price</th>\n",
       "      <th>Age</th>\n",
       "      <th>KM</th>\n",
       "      <th>FuelType</th>\n",
       "      <th>HP</th>\n",
       "      <th>MetColor</th>\n",
       "      <th>Automatic</th>\n",
       "      <th>CC</th>\n",
       "      <th>Doors</th>\n",
       "      <th>Weight</th>\n",
       "    </tr>\n",
       "  </thead>\n",
       "  <tbody>\n",
       "    <tr>\n",
       "      <th>0</th>\n",
       "      <td>13500</td>\n",
       "      <td>23.0</td>\n",
       "      <td>46986</td>\n",
       "      <td>Diesel</td>\n",
       "      <td>90</td>\n",
       "      <td>1.0</td>\n",
       "      <td>0</td>\n",
       "      <td>2000</td>\n",
       "      <td>three</td>\n",
       "      <td>1165</td>\n",
       "    </tr>\n",
       "    <tr>\n",
       "      <th>1</th>\n",
       "      <td>13750</td>\n",
       "      <td>23.0</td>\n",
       "      <td>72937</td>\n",
       "      <td>Diesel</td>\n",
       "      <td>90</td>\n",
       "      <td>1.0</td>\n",
       "      <td>0</td>\n",
       "      <td>2000</td>\n",
       "      <td>3</td>\n",
       "      <td>1165</td>\n",
       "    </tr>\n",
       "    <tr>\n",
       "      <th>2</th>\n",
       "      <td>13950</td>\n",
       "      <td>24.0</td>\n",
       "      <td>41711</td>\n",
       "      <td>Diesel</td>\n",
       "      <td>90</td>\n",
       "      <td>NaN</td>\n",
       "      <td>0</td>\n",
       "      <td>2000</td>\n",
       "      <td>3</td>\n",
       "      <td>1165</td>\n",
       "    </tr>\n",
       "    <tr>\n",
       "      <th>3</th>\n",
       "      <td>14950</td>\n",
       "      <td>26.0</td>\n",
       "      <td>48000</td>\n",
       "      <td>Diesel</td>\n",
       "      <td>90</td>\n",
       "      <td>0.0</td>\n",
       "      <td>0</td>\n",
       "      <td>2000</td>\n",
       "      <td>3</td>\n",
       "      <td>1165</td>\n",
       "    </tr>\n",
       "    <tr>\n",
       "      <th>4</th>\n",
       "      <td>13750</td>\n",
       "      <td>30.0</td>\n",
       "      <td>38500</td>\n",
       "      <td>Diesel</td>\n",
       "      <td>90</td>\n",
       "      <td>0.0</td>\n",
       "      <td>0</td>\n",
       "      <td>2000</td>\n",
       "      <td>3</td>\n",
       "      <td>1170</td>\n",
       "    </tr>\n",
       "    <tr>\n",
       "      <th>5</th>\n",
       "      <td>12950</td>\n",
       "      <td>32.0</td>\n",
       "      <td>61000</td>\n",
       "      <td>Diesel</td>\n",
       "      <td>90</td>\n",
       "      <td>0.0</td>\n",
       "      <td>0</td>\n",
       "      <td>2000</td>\n",
       "      <td>3</td>\n",
       "      <td>1170</td>\n",
       "    </tr>\n",
       "  </tbody>\n",
       "</table>\n",
       "</div>"
      ],
      "text/plain": [
       "   Price   Age     KM FuelType  HP  MetColor  Automatic    CC  Doors  Weight\n",
       "0  13500  23.0  46986   Diesel  90       1.0          0  2000  three    1165\n",
       "1  13750  23.0  72937   Diesel  90       1.0          0  2000      3    1165\n",
       "2  13950  24.0  41711   Diesel  90       NaN          0  2000      3    1165\n",
       "3  14950  26.0  48000   Diesel  90       0.0          0  2000      3    1165\n",
       "4  13750  30.0  38500   Diesel  90       0.0          0  2000      3    1170\n",
       "5  12950  32.0  61000   Diesel  90       0.0          0  2000      3    1170"
      ]
     },
     "execution_count": 17,
     "metadata": {},
     "output_type": "execute_result"
    }
   ],
   "source": [
    "cars_data1.head(6)"
   ]
  },
  {
   "cell_type": "code",
   "execution_count": 18,
   "id": "d425b7be-76d9-4198-b068-c14b5c140971",
   "metadata": {},
   "outputs": [],
   "source": [
    "# by default, the head() returns the first 5 rows of the data frame."
   ]
  },
  {
   "cell_type": "markdown",
   "id": "c30fcbd5-1026-4928-b295-0dfa712adeef",
   "metadata": {},
   "source": [
    "#### DataFrame.tail(n) : returns the last n rows from the dataframe"
   ]
  },
  {
   "cell_type": "code",
   "execution_count": 19,
   "id": "b5b8c1f1-1f74-4a75-ada2-de2c77235c8e",
   "metadata": {},
   "outputs": [
    {
     "data": {
      "text/html": [
       "<div>\n",
       "<style scoped>\n",
       "    .dataframe tbody tr th:only-of-type {\n",
       "        vertical-align: middle;\n",
       "    }\n",
       "\n",
       "    .dataframe tbody tr th {\n",
       "        vertical-align: top;\n",
       "    }\n",
       "\n",
       "    .dataframe thead th {\n",
       "        text-align: right;\n",
       "    }\n",
       "</style>\n",
       "<table border=\"1\" class=\"dataframe\">\n",
       "  <thead>\n",
       "    <tr style=\"text-align: right;\">\n",
       "      <th></th>\n",
       "      <th>Price</th>\n",
       "      <th>Age</th>\n",
       "      <th>KM</th>\n",
       "      <th>FuelType</th>\n",
       "      <th>HP</th>\n",
       "      <th>MetColor</th>\n",
       "      <th>Automatic</th>\n",
       "      <th>CC</th>\n",
       "      <th>Doors</th>\n",
       "      <th>Weight</th>\n",
       "    </tr>\n",
       "  </thead>\n",
       "  <tbody>\n",
       "    <tr>\n",
       "      <th>1430</th>\n",
       "      <td>8450</td>\n",
       "      <td>80.0</td>\n",
       "      <td>23000</td>\n",
       "      <td>Petrol</td>\n",
       "      <td>86</td>\n",
       "      <td>0.0</td>\n",
       "      <td>0</td>\n",
       "      <td>1300</td>\n",
       "      <td>3</td>\n",
       "      <td>1015</td>\n",
       "    </tr>\n",
       "    <tr>\n",
       "      <th>1431</th>\n",
       "      <td>7500</td>\n",
       "      <td>NaN</td>\n",
       "      <td>20544</td>\n",
       "      <td>Petrol</td>\n",
       "      <td>86</td>\n",
       "      <td>1.0</td>\n",
       "      <td>0</td>\n",
       "      <td>1300</td>\n",
       "      <td>3</td>\n",
       "      <td>1025</td>\n",
       "    </tr>\n",
       "    <tr>\n",
       "      <th>1432</th>\n",
       "      <td>10845</td>\n",
       "      <td>72.0</td>\n",
       "      <td>??</td>\n",
       "      <td>Petrol</td>\n",
       "      <td>86</td>\n",
       "      <td>0.0</td>\n",
       "      <td>0</td>\n",
       "      <td>1300</td>\n",
       "      <td>3</td>\n",
       "      <td>1015</td>\n",
       "    </tr>\n",
       "    <tr>\n",
       "      <th>1433</th>\n",
       "      <td>8500</td>\n",
       "      <td>NaN</td>\n",
       "      <td>17016</td>\n",
       "      <td>Petrol</td>\n",
       "      <td>86</td>\n",
       "      <td>0.0</td>\n",
       "      <td>0</td>\n",
       "      <td>1300</td>\n",
       "      <td>3</td>\n",
       "      <td>1015</td>\n",
       "    </tr>\n",
       "    <tr>\n",
       "      <th>1434</th>\n",
       "      <td>7250</td>\n",
       "      <td>70.0</td>\n",
       "      <td>??</td>\n",
       "      <td>NaN</td>\n",
       "      <td>86</td>\n",
       "      <td>1.0</td>\n",
       "      <td>0</td>\n",
       "      <td>1300</td>\n",
       "      <td>3</td>\n",
       "      <td>1015</td>\n",
       "    </tr>\n",
       "    <tr>\n",
       "      <th>1435</th>\n",
       "      <td>6950</td>\n",
       "      <td>76.0</td>\n",
       "      <td>1</td>\n",
       "      <td>Petrol</td>\n",
       "      <td>110</td>\n",
       "      <td>0.0</td>\n",
       "      <td>0</td>\n",
       "      <td>1600</td>\n",
       "      <td>5</td>\n",
       "      <td>1114</td>\n",
       "    </tr>\n",
       "  </tbody>\n",
       "</table>\n",
       "</div>"
      ],
      "text/plain": [
       "      Price   Age     KM FuelType   HP  MetColor  Automatic    CC Doors  \\\n",
       "1430   8450  80.0  23000   Petrol   86       0.0          0  1300     3   \n",
       "1431   7500   NaN  20544   Petrol   86       1.0          0  1300     3   \n",
       "1432  10845  72.0     ??   Petrol   86       0.0          0  1300     3   \n",
       "1433   8500   NaN  17016   Petrol   86       0.0          0  1300     3   \n",
       "1434   7250  70.0     ??      NaN   86       1.0          0  1300     3   \n",
       "1435   6950  76.0      1   Petrol  110       0.0          0  1600     5   \n",
       "\n",
       "      Weight  \n",
       "1430    1015  \n",
       "1431    1025  \n",
       "1432    1015  \n",
       "1433    1015  \n",
       "1434    1015  \n",
       "1435    1114  "
      ]
     },
     "execution_count": 19,
     "metadata": {},
     "output_type": "execute_result"
    }
   ],
   "source": [
    "cars_data1.tail(6)"
   ]
  },
  {
   "cell_type": "markdown",
   "id": "16fd811e-1503-4a0a-9fad-54d228bc8cd2",
   "metadata": {},
   "source": [
    "#### To access a scalar value, the fastest way is to use the at and iat methods."
   ]
  },
  {
   "cell_type": "code",
   "execution_count": 20,
   "id": "b1c20f18-add9-4281-916c-7029c025a5d3",
   "metadata": {},
   "outputs": [
    {
     "data": {
      "text/plain": [
       "23.0"
      ]
     },
     "execution_count": 20,
     "metadata": {},
     "output_type": "execute_result"
    }
   ],
   "source": [
    "# at provides label-based scalar lookups\n",
    "cars_data1.at[0,'Age']"
   ]
  },
  {
   "cell_type": "code",
   "execution_count": 21,
   "id": "4558d628-5001-4b26-a162-2d7a5150f696",
   "metadata": {},
   "outputs": [
    {
     "data": {
      "text/plain": [
       "23.0"
      ]
     },
     "execution_count": 21,
     "metadata": {},
     "output_type": "execute_result"
    }
   ],
   "source": [
    "# at provides integer-based scalar lookups\n",
    "cars_data1.iat[0,1]"
   ]
  },
  {
   "cell_type": "markdown",
   "id": "904d8092-0ad1-490b-b3ca-4284584cc356",
   "metadata": {},
   "source": [
    "#### To access a group of rows and columns by label(s) .loc[] can be used"
   ]
  },
  {
   "cell_type": "code",
   "execution_count": 22,
   "id": "6984efa8-8348-4b5c-9814-63ecc5eef11a",
   "metadata": {},
   "outputs": [
    {
     "data": {
      "text/plain": [
       "0       Diesel\n",
       "1       Diesel\n",
       "2       Diesel\n",
       "3       Diesel\n",
       "4       Diesel\n",
       "         ...  \n",
       "1431    Petrol\n",
       "1432    Petrol\n",
       "1433    Petrol\n",
       "1434       NaN\n",
       "1435    Petrol\n",
       "Name: FuelType, Length: 1436, dtype: object"
      ]
     },
     "execution_count": 22,
     "metadata": {},
     "output_type": "execute_result"
    }
   ],
   "source": [
    "cars_data1.loc[:,'FuelType']"
   ]
  },
  {
   "cell_type": "code",
   "execution_count": 26,
   "id": "760400ce-bc62-4d04-9253-079276b61e4e",
   "metadata": {},
   "outputs": [
    {
     "data": {
      "text/html": [
       "<div>\n",
       "<style scoped>\n",
       "    .dataframe tbody tr th:only-of-type {\n",
       "        vertical-align: middle;\n",
       "    }\n",
       "\n",
       "    .dataframe tbody tr th {\n",
       "        vertical-align: top;\n",
       "    }\n",
       "\n",
       "    .dataframe thead th {\n",
       "        text-align: right;\n",
       "    }\n",
       "</style>\n",
       "<table border=\"1\" class=\"dataframe\">\n",
       "  <thead>\n",
       "    <tr style=\"text-align: right;\">\n",
       "      <th></th>\n",
       "      <th>Age</th>\n",
       "      <th>KM</th>\n",
       "    </tr>\n",
       "  </thead>\n",
       "  <tbody>\n",
       "    <tr>\n",
       "      <th>5</th>\n",
       "      <td>32.0</td>\n",
       "      <td>61000</td>\n",
       "    </tr>\n",
       "    <tr>\n",
       "      <th>6</th>\n",
       "      <td>27.0</td>\n",
       "      <td>??</td>\n",
       "    </tr>\n",
       "    <tr>\n",
       "      <th>7</th>\n",
       "      <td>30.0</td>\n",
       "      <td>75889</td>\n",
       "    </tr>\n",
       "    <tr>\n",
       "      <th>8</th>\n",
       "      <td>27.0</td>\n",
       "      <td>19700</td>\n",
       "    </tr>\n",
       "    <tr>\n",
       "      <th>9</th>\n",
       "      <td>23.0</td>\n",
       "      <td>71138</td>\n",
       "    </tr>\n",
       "    <tr>\n",
       "      <th>10</th>\n",
       "      <td>25.0</td>\n",
       "      <td>31461</td>\n",
       "    </tr>\n",
       "  </tbody>\n",
       "</table>\n",
       "</div>"
      ],
      "text/plain": [
       "     Age     KM\n",
       "5   32.0  61000\n",
       "6   27.0     ??\n",
       "7   30.0  75889\n",
       "8   27.0  19700\n",
       "9   23.0  71138\n",
       "10  25.0  31461"
      ]
     },
     "execution_count": 26,
     "metadata": {},
     "output_type": "execute_result"
    }
   ],
   "source": [
    "cars_data1.loc[5:10,['Age','KM']]"
   ]
  },
  {
   "cell_type": "markdown",
   "id": "86cd5dce-6b3a-482f-af97-b870601bf8b1",
   "metadata": {},
   "source": [
    "## Data types\n",
    "- There are two main types of data:\n",
    "   1. Numeric : integer and float\n",
    "   2. character : category and object"
   ]
  },
  {
   "cell_type": "markdown",
   "id": "96783f54-5c98-4149-ba06-3f03231f0ee9",
   "metadata": {},
   "source": [
    "pandas : int64 and float64. 64 bits is equivalent to 8 bytes."
   ]
  },
  {
   "cell_type": "markdown",
   "id": "23d65c7c-14a1-4061-90a7-9e2f965f7efa",
   "metadata": {},
   "source": [
    "### Checking the data types of each column\n",
    "- dtypes returns a series with the data type of each column\n",
    "- DataFrame.dtypes"
   ]
  },
  {
   "cell_type": "code",
   "execution_count": 27,
   "id": "4e6ae1b0-85d6-4719-b0c6-eb8fe612b5e1",
   "metadata": {},
   "outputs": [
    {
     "data": {
      "text/plain": [
       "Price          int64\n",
       "Age          float64\n",
       "KM            object\n",
       "FuelType      object\n",
       "HP            object\n",
       "MetColor     float64\n",
       "Automatic      int64\n",
       "CC             int64\n",
       "Doors         object\n",
       "Weight         int64\n",
       "dtype: object"
      ]
     },
     "execution_count": 27,
     "metadata": {},
     "output_type": "execute_result"
    }
   ],
   "source": [
    "cars_data1.dtypes"
   ]
  },
  {
   "cell_type": "markdown",
   "id": "b565790d-4a13-4792-a4d4-13368a8da235",
   "metadata": {},
   "source": [
    "### Count of unique data types\n",
    "- get_dtype_counts() returns counts of unique data types in the dataframe\n",
    "- DataFrame.get_dtype_counts()"
   ]
  },
  {
   "cell_type": "code",
   "execution_count": 30,
   "id": "79f9d92e-43fa-40af-9856-97ecbd12e5ce",
   "metadata": {},
   "outputs": [
    {
     "data": {
      "text/plain": [
       "int64      4\n",
       "object     4\n",
       "float64    2\n",
       "Name: count, dtype: int64"
      ]
     },
     "execution_count": 30,
     "metadata": {},
     "output_type": "execute_result"
    }
   ],
   "source": [
    "cars_data1.dtypes.value_counts()"
   ]
  },
  {
   "cell_type": "markdown",
   "id": "b2fcfff6-44aa-4fb5-89d6-afffe734e5a1",
   "metadata": {},
   "source": [
    "### Selecting data based on data types\n",
    "- pandas.DataFrame.select_dtypes() : returns a series of the columns from dataframe based on the column dtypes"
   ]
  },
  {
   "cell_type": "code",
   "execution_count": 33,
   "id": "3eb8eb03-ab75-46f3-a13f-9a9016f86ddd",
   "metadata": {},
   "outputs": [
    {
     "data": {
      "text/html": [
       "<div>\n",
       "<style scoped>\n",
       "    .dataframe tbody tr th:only-of-type {\n",
       "        vertical-align: middle;\n",
       "    }\n",
       "\n",
       "    .dataframe tbody tr th {\n",
       "        vertical-align: top;\n",
       "    }\n",
       "\n",
       "    .dataframe thead th {\n",
       "        text-align: right;\n",
       "    }\n",
       "</style>\n",
       "<table border=\"1\" class=\"dataframe\">\n",
       "  <thead>\n",
       "    <tr style=\"text-align: right;\">\n",
       "      <th></th>\n",
       "      <th>Price</th>\n",
       "      <th>Automatic</th>\n",
       "      <th>CC</th>\n",
       "      <th>Weight</th>\n",
       "    </tr>\n",
       "  </thead>\n",
       "  <tbody>\n",
       "    <tr>\n",
       "      <th>0</th>\n",
       "      <td>13500</td>\n",
       "      <td>0</td>\n",
       "      <td>2000</td>\n",
       "      <td>1165</td>\n",
       "    </tr>\n",
       "    <tr>\n",
       "      <th>1</th>\n",
       "      <td>13750</td>\n",
       "      <td>0</td>\n",
       "      <td>2000</td>\n",
       "      <td>1165</td>\n",
       "    </tr>\n",
       "    <tr>\n",
       "      <th>2</th>\n",
       "      <td>13950</td>\n",
       "      <td>0</td>\n",
       "      <td>2000</td>\n",
       "      <td>1165</td>\n",
       "    </tr>\n",
       "    <tr>\n",
       "      <th>3</th>\n",
       "      <td>14950</td>\n",
       "      <td>0</td>\n",
       "      <td>2000</td>\n",
       "      <td>1165</td>\n",
       "    </tr>\n",
       "    <tr>\n",
       "      <th>4</th>\n",
       "      <td>13750</td>\n",
       "      <td>0</td>\n",
       "      <td>2000</td>\n",
       "      <td>1170</td>\n",
       "    </tr>\n",
       "    <tr>\n",
       "      <th>...</th>\n",
       "      <td>...</td>\n",
       "      <td>...</td>\n",
       "      <td>...</td>\n",
       "      <td>...</td>\n",
       "    </tr>\n",
       "    <tr>\n",
       "      <th>1431</th>\n",
       "      <td>7500</td>\n",
       "      <td>0</td>\n",
       "      <td>1300</td>\n",
       "      <td>1025</td>\n",
       "    </tr>\n",
       "    <tr>\n",
       "      <th>1432</th>\n",
       "      <td>10845</td>\n",
       "      <td>0</td>\n",
       "      <td>1300</td>\n",
       "      <td>1015</td>\n",
       "    </tr>\n",
       "    <tr>\n",
       "      <th>1433</th>\n",
       "      <td>8500</td>\n",
       "      <td>0</td>\n",
       "      <td>1300</td>\n",
       "      <td>1015</td>\n",
       "    </tr>\n",
       "    <tr>\n",
       "      <th>1434</th>\n",
       "      <td>7250</td>\n",
       "      <td>0</td>\n",
       "      <td>1300</td>\n",
       "      <td>1015</td>\n",
       "    </tr>\n",
       "    <tr>\n",
       "      <th>1435</th>\n",
       "      <td>6950</td>\n",
       "      <td>0</td>\n",
       "      <td>1600</td>\n",
       "      <td>1114</td>\n",
       "    </tr>\n",
       "  </tbody>\n",
       "</table>\n",
       "<p>1436 rows × 4 columns</p>\n",
       "</div>"
      ],
      "text/plain": [
       "      Price  Automatic    CC  Weight\n",
       "0     13500          0  2000    1165\n",
       "1     13750          0  2000    1165\n",
       "2     13950          0  2000    1165\n",
       "3     14950          0  2000    1165\n",
       "4     13750          0  2000    1170\n",
       "...     ...        ...   ...     ...\n",
       "1431   7500          0  1300    1025\n",
       "1432  10845          0  1300    1015\n",
       "1433   8500          0  1300    1015\n",
       "1434   7250          0  1300    1015\n",
       "1435   6950          0  1600    1114\n",
       "\n",
       "[1436 rows x 4 columns]"
      ]
     },
     "execution_count": 33,
     "metadata": {},
     "output_type": "execute_result"
    }
   ],
   "source": [
    "cars_data1.select_dtypes(exclude=[object,float])"
   ]
  },
  {
   "cell_type": "markdown",
   "id": "3d8c8b3e-3379-44a2-a710-23cd465151b4",
   "metadata": {},
   "source": [
    "### Concise summary of dataframe\n",
    "- DataFrame.info()"
   ]
  },
  {
   "cell_type": "code",
   "execution_count": 34,
   "id": "5371fe06-8947-41f1-8719-939895245ccd",
   "metadata": {},
   "outputs": [
    {
     "name": "stdout",
     "output_type": "stream",
     "text": [
      "<class 'pandas.core.frame.DataFrame'>\n",
      "Index: 1436 entries, 0 to 1435\n",
      "Data columns (total 10 columns):\n",
      " #   Column     Non-Null Count  Dtype  \n",
      "---  ------     --------------  -----  \n",
      " 0   Price      1436 non-null   int64  \n",
      " 1   Age        1336 non-null   float64\n",
      " 2   KM         1436 non-null   object \n",
      " 3   FuelType   1336 non-null   object \n",
      " 4   HP         1436 non-null   object \n",
      " 5   MetColor   1286 non-null   float64\n",
      " 6   Automatic  1436 non-null   int64  \n",
      " 7   CC         1436 non-null   int64  \n",
      " 8   Doors      1436 non-null   object \n",
      " 9   Weight     1436 non-null   int64  \n",
      "dtypes: float64(2), int64(4), object(4)\n",
      "memory usage: 155.7+ KB\n"
     ]
    }
   ],
   "source": [
    "cars_data1.info()"
   ]
  },
  {
   "cell_type": "markdown",
   "id": "d2c891b3-b574-40f2-a3fe-63e6c2fec083",
   "metadata": {},
   "source": [
    "### Unique elements of columns\n",
    "- Syntax : numpy.unique(array)"
   ]
  },
  {
   "cell_type": "code",
   "execution_count": 39,
   "id": "898512ec-c115-4725-9d78-be4b4ec8df69",
   "metadata": {},
   "outputs": [
    {
     "data": {
      "text/plain": [
       "array(['1', '10000', '100123', ..., '99865', '99971', '??'], dtype=object)"
      ]
     },
     "execution_count": 39,
     "metadata": {},
     "output_type": "execute_result"
    }
   ],
   "source": [
    "np.unique(cars_data1['KM'])"
   ]
  },
  {
   "cell_type": "code",
   "execution_count": 40,
   "id": "852ce149-61ef-42aa-b58b-4c37f47fe4fb",
   "metadata": {},
   "outputs": [
    {
     "data": {
      "text/plain": [
       "array(['107', '110', '116', '192', '69', '71', '72', '73', '86', '90',\n",
       "       '97', '98', '????'], dtype=object)"
      ]
     },
     "execution_count": 40,
     "metadata": {},
     "output_type": "execute_result"
    }
   ],
   "source": [
    "np.unique(cars_data1['HP'])"
   ]
  },
  {
   "cell_type": "code",
   "execution_count": 41,
   "id": "acf27a4f-8429-4845-92ee-e7c841a42634",
   "metadata": {},
   "outputs": [
    {
     "data": {
      "text/plain": [
       "array([ 0.,  1., nan])"
      ]
     },
     "execution_count": 41,
     "metadata": {},
     "output_type": "execute_result"
    }
   ],
   "source": [
    "np.unique(cars_data1['MetColor'])"
   ]
  },
  {
   "cell_type": "code",
   "execution_count": 42,
   "id": "640f5630-0d7a-4a36-b91f-370a24f5f8a0",
   "metadata": {},
   "outputs": [
    {
     "data": {
      "text/plain": [
       "array([0, 1], dtype=int64)"
      ]
     },
     "execution_count": 42,
     "metadata": {},
     "output_type": "execute_result"
    }
   ],
   "source": [
    "np.unique(cars_data1['Automatic'])"
   ]
  },
  {
   "cell_type": "code",
   "execution_count": 43,
   "id": "6ee0e554-83ac-44a0-94ad-be65f4ed789a",
   "metadata": {},
   "outputs": [
    {
     "data": {
      "text/plain": [
       "array(['2', '3', '4', '5', 'five', 'four', 'three'], dtype=object)"
      ]
     },
     "execution_count": 43,
     "metadata": {},
     "output_type": "execute_result"
    }
   ],
   "source": [
    "np.unique(cars_data1['Doors'])"
   ]
  },
  {
   "cell_type": "markdown",
   "id": "ba5c698e-a0cb-4603-9629-5125c3ad825c",
   "metadata": {},
   "source": [
    "## Importing data"
   ]
  },
  {
   "cell_type": "code",
   "execution_count": 1,
   "id": "e25b3707-509e-42e9-8d0a-170cd501e98a",
   "metadata": {},
   "outputs": [
    {
     "name": "stdout",
     "output_type": "stream",
     "text": [
      "   Price   Age       KM FuelType    HP  MetColor  Automatic    CC  Doors  \\\n",
      "0  13500  23.0  46986.0   Diesel  90.0       1.0          0  2000  three   \n",
      "1  13750  23.0  72937.0   Diesel  90.0       1.0          0  2000      3   \n",
      "2  13950  24.0  41711.0   Diesel  90.0       NaN          0  2000      3   \n",
      "3  14950  26.0  48000.0   Diesel  90.0       0.0          0  2000      3   \n",
      "4  13750  30.0  38500.0   Diesel  90.0       0.0          0  2000      3   \n",
      "\n",
      "   Weight  \n",
      "0    1165  \n",
      "1    1165  \n",
      "2    1165  \n",
      "3    1165  \n",
      "4    1170  \n"
     ]
    }
   ],
   "source": [
    "import pandas as pd\n",
    "cars_data = pd.read_csv('Toyota.csv',index_col=0, na_values=['??','????']);\n",
    "print(cars_data.head())"
   ]
  },
  {
   "cell_type": "code",
   "execution_count": 2,
   "id": "1920fb75-4ed3-4ac8-9a1c-913513fc2908",
   "metadata": {},
   "outputs": [],
   "source": [
    "# creating a deep copy\n",
    "cars_data2 = cars_data.copy()"
   ]
  },
  {
   "cell_type": "code",
   "execution_count": 3,
   "id": "b49f28a8-449e-4c66-85db-94d6807b42b7",
   "metadata": {},
   "outputs": [
    {
     "name": "stdout",
     "output_type": "stream",
     "text": [
      "<class 'pandas.core.frame.DataFrame'>\n",
      "Index: 1436 entries, 0 to 1435\n",
      "Data columns (total 10 columns):\n",
      " #   Column     Non-Null Count  Dtype  \n",
      "---  ------     --------------  -----  \n",
      " 0   Price      1436 non-null   int64  \n",
      " 1   Age        1336 non-null   float64\n",
      " 2   KM         1421 non-null   float64\n",
      " 3   FuelType   1336 non-null   object \n",
      " 4   HP         1430 non-null   float64\n",
      " 5   MetColor   1286 non-null   float64\n",
      " 6   Automatic  1436 non-null   int64  \n",
      " 7   CC         1436 non-null   int64  \n",
      " 8   Doors      1436 non-null   object \n",
      " 9   Weight     1436 non-null   int64  \n",
      "dtypes: float64(4), int64(4), object(2)\n",
      "memory usage: 123.4+ KB\n"
     ]
    }
   ],
   "source": [
    "cars_data2.info()"
   ]
  },
  {
   "cell_type": "markdown",
   "id": "e3774fe8-3186-44c5-9c89-f5410292303e",
   "metadata": {},
   "source": [
    "### Converting variable's data types\n",
    "- Syntax : DataFrame.astype(dtype)"
   ]
  },
  {
   "cell_type": "code",
   "execution_count": 4,
   "id": "b8331cf4-ed82-400f-90ee-528fe1c698c1",
   "metadata": {},
   "outputs": [],
   "source": [
    "cars_data2['MetColor'] = cars_data2['MetColor'].astype('object')\n",
    "cars_data2['Automatic'] = cars_data2['Automatic'].astype('object')"
   ]
  },
  {
   "cell_type": "code",
   "execution_count": 5,
   "id": "73de9621-d101-460c-ba3a-8c0a539045d9",
   "metadata": {},
   "outputs": [
    {
     "data": {
      "text/plain": [
       "11488"
      ]
     },
     "execution_count": 5,
     "metadata": {},
     "output_type": "execute_result"
    }
   ],
   "source": [
    "cars_data2['FuelType'].nbytes"
   ]
  },
  {
   "cell_type": "code",
   "execution_count": 6,
   "id": "ac65aae2-c6ca-4c77-96c9-b8b8205c366c",
   "metadata": {},
   "outputs": [
    {
     "data": {
      "text/plain": [
       "1460"
      ]
     },
     "execution_count": 6,
     "metadata": {},
     "output_type": "execute_result"
    }
   ],
   "source": [
    "cars_data2['FuelType'].astype('category').nbytes"
   ]
  },
  {
   "cell_type": "code",
   "execution_count": 7,
   "id": "289dc7a8-d907-473c-9ded-ad29dc6422ca",
   "metadata": {},
   "outputs": [
    {
     "name": "stdout",
     "output_type": "stream",
     "text": [
      "<class 'pandas.core.frame.DataFrame'>\n",
      "Index: 1436 entries, 0 to 1435\n",
      "Data columns (total 10 columns):\n",
      " #   Column     Non-Null Count  Dtype  \n",
      "---  ------     --------------  -----  \n",
      " 0   Price      1436 non-null   int64  \n",
      " 1   Age        1336 non-null   float64\n",
      " 2   KM         1421 non-null   float64\n",
      " 3   FuelType   1336 non-null   object \n",
      " 4   HP         1430 non-null   float64\n",
      " 5   MetColor   1286 non-null   object \n",
      " 6   Automatic  1436 non-null   object \n",
      " 7   CC         1436 non-null   int64  \n",
      " 8   Doors      1436 non-null   object \n",
      " 9   Weight     1436 non-null   int64  \n",
      "dtypes: float64(3), int64(3), object(4)\n",
      "memory usage: 123.4+ KB\n"
     ]
    }
   ],
   "source": [
    "cars_data2.info()"
   ]
  },
  {
   "cell_type": "markdown",
   "id": "bec7470c-16ff-46fd-80a9-057225c54956",
   "metadata": {},
   "source": [
    "### Cleaning column 'Doors'"
   ]
  },
  {
   "cell_type": "code",
   "execution_count": 9,
   "id": "0313035c-0088-4d2a-b31b-4fed822f56af",
   "metadata": {},
   "outputs": [
    {
     "data": {
      "text/plain": [
       "array(['2', '3', '4', '5', 'five', 'four', 'three'], dtype=object)"
      ]
     },
     "execution_count": 9,
     "metadata": {},
     "output_type": "execute_result"
    }
   ],
   "source": [
    "import numpy as np;\n",
    "np.unique(cars_data2['Doors'])"
   ]
  },
  {
   "cell_type": "markdown",
   "id": "4a250e52-91c2-44a8-a58b-e4e0042dff97",
   "metadata": {},
   "source": [
    "#### replace() is used to replace a value with the desired value"
   ]
  },
  {
   "cell_type": "code",
   "execution_count": 10,
   "id": "3642fe15-4183-4457-80cf-36fffe102f6f",
   "metadata": {},
   "outputs": [],
   "source": [
    "cars_data2['Doors'].replace('three',3,inplace=True)\n",
    "cars_data2['Doors'].replace('four',4,inplace=True)\n",
    "cars_data2['Doors'].replace('five',5,inplace=True)"
   ]
  },
  {
   "cell_type": "code",
   "execution_count": 12,
   "id": "84b0017e-2773-4cdc-be81-b6c7adfbe4f4",
   "metadata": {},
   "outputs": [
    {
     "name": "stdout",
     "output_type": "stream",
     "text": [
      "<class 'pandas.core.frame.DataFrame'>\n",
      "Index: 1436 entries, 0 to 1435\n",
      "Data columns (total 10 columns):\n",
      " #   Column     Non-Null Count  Dtype  \n",
      "---  ------     --------------  -----  \n",
      " 0   Price      1436 non-null   int64  \n",
      " 1   Age        1336 non-null   float64\n",
      " 2   KM         1421 non-null   float64\n",
      " 3   FuelType   1336 non-null   object \n",
      " 4   HP         1430 non-null   float64\n",
      " 5   MetColor   1286 non-null   object \n",
      " 6   Automatic  1436 non-null   object \n",
      " 7   CC         1436 non-null   int64  \n",
      " 8   Doors      1436 non-null   object \n",
      " 9   Weight     1436 non-null   int64  \n",
      "dtypes: float64(3), int64(3), object(4)\n",
      "memory usage: 123.4+ KB\n"
     ]
    }
   ],
   "source": [
    "cars_data2.info()"
   ]
  },
  {
   "cell_type": "code",
   "execution_count": 15,
   "id": "1a447c33-efa9-4503-aacd-e172f57f4440",
   "metadata": {},
   "outputs": [],
   "source": [
    "cars_data2['Doors']=cars_data2['Doors'].astype('int64')"
   ]
  },
  {
   "cell_type": "code",
   "execution_count": 16,
   "id": "b92b2beb-2fc4-4151-9a88-5191aa9c9ef5",
   "metadata": {},
   "outputs": [
    {
     "name": "stdout",
     "output_type": "stream",
     "text": [
      "<class 'pandas.core.frame.DataFrame'>\n",
      "Index: 1436 entries, 0 to 1435\n",
      "Data columns (total 10 columns):\n",
      " #   Column     Non-Null Count  Dtype  \n",
      "---  ------     --------------  -----  \n",
      " 0   Price      1436 non-null   int64  \n",
      " 1   Age        1336 non-null   float64\n",
      " 2   KM         1421 non-null   float64\n",
      " 3   FuelType   1336 non-null   object \n",
      " 4   HP         1430 non-null   float64\n",
      " 5   MetColor   1286 non-null   object \n",
      " 6   Automatic  1436 non-null   object \n",
      " 7   CC         1436 non-null   int64  \n",
      " 8   Doors      1436 non-null   int64  \n",
      " 9   Weight     1436 non-null   int64  \n",
      "dtypes: float64(3), int64(4), object(3)\n",
      "memory usage: 123.4+ KB\n"
     ]
    }
   ],
   "source": [
    "cars_data2.info()"
   ]
  },
  {
   "cell_type": "markdown",
   "id": "d408e00a-90ae-43de-aa0e-d740ba97f5ee",
   "metadata": {},
   "source": [
    "### To detect missing values\n",
    "- DataFrame.isnull().sum()"
   ]
  },
  {
   "cell_type": "code",
   "execution_count": 17,
   "id": "da77aed0-037d-48b8-98c9-69341c581966",
   "metadata": {},
   "outputs": [
    {
     "data": {
      "text/plain": [
       "Price          0\n",
       "Age          100\n",
       "KM            15\n",
       "FuelType     100\n",
       "HP             6\n",
       "MetColor     150\n",
       "Automatic      0\n",
       "CC             0\n",
       "Doors          0\n",
       "Weight         0\n",
       "dtype: int64"
      ]
     },
     "execution_count": 17,
     "metadata": {},
     "output_type": "execute_result"
    }
   ],
   "source": [
    "cars_data2.isnull().sum()"
   ]
  },
  {
   "cell_type": "code",
   "execution_count": null,
   "id": "6be0a79b-bc4b-408d-a209-c650c91ff514",
   "metadata": {},
   "outputs": [],
   "source": []
  }
 ],
 "metadata": {
  "kernelspec": {
   "display_name": "Python 3 (ipykernel)",
   "language": "python",
   "name": "python3"
  },
  "language_info": {
   "codemirror_mode": {
    "name": "ipython",
    "version": 3
   },
   "file_extension": ".py",
   "mimetype": "text/x-python",
   "name": "python",
   "nbconvert_exporter": "python",
   "pygments_lexer": "ipython3",
   "version": "3.11.5"
  }
 },
 "nbformat": 4,
 "nbformat_minor": 5
}
