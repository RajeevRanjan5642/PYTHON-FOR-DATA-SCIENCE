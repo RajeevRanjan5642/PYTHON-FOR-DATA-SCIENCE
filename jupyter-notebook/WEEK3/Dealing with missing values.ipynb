{
 "cells": [
  {
   "cell_type": "code",
   "execution_count": 1,
   "id": "ae3db2f8-6f24-4dbc-a91b-a9e7a6031b7e",
   "metadata": {},
   "outputs": [],
   "source": [
    "# importing necessary libraries\n",
    "import numpy as np\n",
    "import pandas as pd"
   ]
  },
  {
   "cell_type": "code",
   "execution_count": 2,
   "id": "5799444d-13c0-4917-984a-100dbecac869",
   "metadata": {},
   "outputs": [],
   "source": [
    "cars_data = pd.read_csv('Toyota.csv',index_col=0,na_values=['??','????'])"
   ]
  },
  {
   "cell_type": "code",
   "execution_count": 3,
   "id": "9f9ab14b-77ef-4fc6-82cb-1345701d2bfd",
   "metadata": {},
   "outputs": [],
   "source": [
    "cars_data2 = cars_data.copy()\n",
    "cars_data3 = cars_data.copy()"
   ]
  },
  {
   "cell_type": "markdown",
   "id": "07712eb3-d784-4227-b0a4-a7677b1ad56a",
   "metadata": {},
   "source": [
    "In pandas dataframe, missing data is represented as NaN (Not a Number).\n",
    "To check null values in Pandas dataframes, isnull() and isna() are used.\n",
    "These functions return a dataframe of Boolean values which are true for missing values."
   ]
  },
  {
   "cell_type": "markdown",
   "id": "aba68b1c-56ac-4e6c-9cef-f8f1b37811b9",
   "metadata": {},
   "source": [
    "# Identifying missing values\n",
    "- Dataframe.isna().sum()\n",
    "- Dataframe.isnull().sum()"
   ]
  },
  {
   "cell_type": "code",
   "execution_count": 7,
   "id": "c42f91eb-23d1-4236-812c-e95c0fa2af3b",
   "metadata": {},
   "outputs": [
    {
     "data": {
      "text/plain": [
       "Price          0\n",
       "Age          100\n",
       "KM            15\n",
       "FuelType     100\n",
       "HP             6\n",
       "MetColor     150\n",
       "Automatic      0\n",
       "CC             0\n",
       "Doors          0\n",
       "Weight         0\n",
       "dtype: int64"
      ]
     },
     "execution_count": 7,
     "metadata": {},
     "output_type": "execute_result"
    }
   ],
   "source": [
    "cars_data2.isnull().sum()"
   ]
  },
  {
   "cell_type": "code",
   "execution_count": 8,
   "id": "3bcc4410-5578-4896-bfb0-6a33d397e476",
   "metadata": {},
   "outputs": [
    {
     "data": {
      "text/plain": [
       "Price          0\n",
       "Age          100\n",
       "KM            15\n",
       "FuelType     100\n",
       "HP             6\n",
       "MetColor     150\n",
       "Automatic      0\n",
       "CC             0\n",
       "Doors          0\n",
       "Weight         0\n",
       "dtype: int64"
      ]
     },
     "execution_count": 8,
     "metadata": {},
     "output_type": "execute_result"
    }
   ],
   "source": [
    "cars_data2.isna().sum()"
   ]
  },
  {
   "cell_type": "code",
   "execution_count": 9,
   "id": "46e85445-e877-4a74-91d2-953110183289",
   "metadata": {},
   "outputs": [],
   "source": [
    "# Subsetting the rows that have one or more missing values.\n",
    "missing = cars_data2[cars_data2.isnull().any(axis=1)]"
   ]
  },
  {
   "cell_type": "code",
   "execution_count": 11,
   "id": "09cd87ae-06d5-4935-b5a5-861cfb29428a",
   "metadata": {},
   "outputs": [
    {
     "data": {
      "text/plain": [
       "(340, 10)"
      ]
     },
     "execution_count": 11,
     "metadata": {},
     "output_type": "execute_result"
    }
   ],
   "source": [
    "missing.shape"
   ]
  },
  {
   "cell_type": "code",
   "execution_count": 12,
   "id": "e2c954e5-1fdb-4dc4-bd1d-99ee1e4524b0",
   "metadata": {},
   "outputs": [
    {
     "name": "stdout",
     "output_type": "stream",
     "text": [
      "    Price   Age       KM FuelType    HP  MetColor  Automatic    CC Doors  \\\n",
      "2   13950  24.0  41711.0   Diesel  90.0       NaN          0  2000     3   \n",
      "6   16900  27.0      NaN   Diesel   NaN       NaN          0  2000     3   \n",
      "7   18600  30.0  75889.0      NaN  90.0       1.0          0  2000     3   \n",
      "9   12950  23.0  71138.0   Diesel   NaN       NaN          0  1900     3   \n",
      "15  22000  28.0  18739.0   Petrol   NaN       0.0          0  1800     3   \n",
      "\n",
      "    Weight  \n",
      "2     1165  \n",
      "6     1245  \n",
      "7     1245  \n",
      "9     1105  \n",
      "15    1185  \n"
     ]
    }
   ],
   "source": [
    "print(missing.head())"
   ]
  },
  {
   "cell_type": "markdown",
   "id": "b6197224-e09e-4516-86a5-c9c1ab8caf2c",
   "metadata": {},
   "source": [
    "# Approaches to fill the missing the values\n",
    "- Two ways of approach:\n",
    "  1. Fill the missing values by mean/median, in case of numerical variables.\n",
    "  2. Fill the missing values with mode, in case of categorical variable."
   ]
  },
  {
   "cell_type": "markdown",
   "id": "860a41ed-ff76-4f7e-afbb-2bfdea912b8b",
   "metadata": {},
   "source": [
    "## Imputing the missing values"
   ]
  },
  {
   "cell_type": "markdown",
   "id": "f2d03097-e2b0-442f-8155-a17b75f70131",
   "metadata": {},
   "source": [
    "### DataFrame.describe()\n",
    "- Generate descriptive statistics that summarize the central tendency, dispersion and shape of a dataset's distribution excluding NaN values."
   ]
  },
  {
   "cell_type": "code",
   "execution_count": 13,
   "id": "d2215e4a-ecb5-4a53-ad1d-b91dcc5c4ea3",
   "metadata": {},
   "outputs": [
    {
     "data": {
      "text/html": [
       "<div>\n",
       "<style scoped>\n",
       "    .dataframe tbody tr th:only-of-type {\n",
       "        vertical-align: middle;\n",
       "    }\n",
       "\n",
       "    .dataframe tbody tr th {\n",
       "        vertical-align: top;\n",
       "    }\n",
       "\n",
       "    .dataframe thead th {\n",
       "        text-align: right;\n",
       "    }\n",
       "</style>\n",
       "<table border=\"1\" class=\"dataframe\">\n",
       "  <thead>\n",
       "    <tr style=\"text-align: right;\">\n",
       "      <th></th>\n",
       "      <th>Price</th>\n",
       "      <th>Age</th>\n",
       "      <th>KM</th>\n",
       "      <th>HP</th>\n",
       "      <th>MetColor</th>\n",
       "      <th>Automatic</th>\n",
       "      <th>CC</th>\n",
       "      <th>Weight</th>\n",
       "    </tr>\n",
       "  </thead>\n",
       "  <tbody>\n",
       "    <tr>\n",
       "      <th>count</th>\n",
       "      <td>1436.000000</td>\n",
       "      <td>1336.000000</td>\n",
       "      <td>1421.000000</td>\n",
       "      <td>1430.000000</td>\n",
       "      <td>1286.000000</td>\n",
       "      <td>1436.000000</td>\n",
       "      <td>1436.000000</td>\n",
       "      <td>1436.00000</td>\n",
       "    </tr>\n",
       "    <tr>\n",
       "      <th>mean</th>\n",
       "      <td>10730.824513</td>\n",
       "      <td>55.672156</td>\n",
       "      <td>68647.239972</td>\n",
       "      <td>101.478322</td>\n",
       "      <td>0.674961</td>\n",
       "      <td>0.055710</td>\n",
       "      <td>1566.827994</td>\n",
       "      <td>1072.45961</td>\n",
       "    </tr>\n",
       "    <tr>\n",
       "      <th>std</th>\n",
       "      <td>3626.964585</td>\n",
       "      <td>18.589804</td>\n",
       "      <td>37333.023589</td>\n",
       "      <td>14.768255</td>\n",
       "      <td>0.468572</td>\n",
       "      <td>0.229441</td>\n",
       "      <td>187.182436</td>\n",
       "      <td>52.64112</td>\n",
       "    </tr>\n",
       "    <tr>\n",
       "      <th>min</th>\n",
       "      <td>4350.000000</td>\n",
       "      <td>1.000000</td>\n",
       "      <td>1.000000</td>\n",
       "      <td>69.000000</td>\n",
       "      <td>0.000000</td>\n",
       "      <td>0.000000</td>\n",
       "      <td>1300.000000</td>\n",
       "      <td>1000.00000</td>\n",
       "    </tr>\n",
       "    <tr>\n",
       "      <th>25%</th>\n",
       "      <td>8450.000000</td>\n",
       "      <td>43.000000</td>\n",
       "      <td>43210.000000</td>\n",
       "      <td>90.000000</td>\n",
       "      <td>0.000000</td>\n",
       "      <td>0.000000</td>\n",
       "      <td>1400.000000</td>\n",
       "      <td>1040.00000</td>\n",
       "    </tr>\n",
       "    <tr>\n",
       "      <th>50%</th>\n",
       "      <td>9900.000000</td>\n",
       "      <td>60.000000</td>\n",
       "      <td>63634.000000</td>\n",
       "      <td>110.000000</td>\n",
       "      <td>1.000000</td>\n",
       "      <td>0.000000</td>\n",
       "      <td>1600.000000</td>\n",
       "      <td>1070.00000</td>\n",
       "    </tr>\n",
       "    <tr>\n",
       "      <th>75%</th>\n",
       "      <td>11950.000000</td>\n",
       "      <td>70.000000</td>\n",
       "      <td>87000.000000</td>\n",
       "      <td>110.000000</td>\n",
       "      <td>1.000000</td>\n",
       "      <td>0.000000</td>\n",
       "      <td>1600.000000</td>\n",
       "      <td>1085.00000</td>\n",
       "    </tr>\n",
       "    <tr>\n",
       "      <th>max</th>\n",
       "      <td>32500.000000</td>\n",
       "      <td>80.000000</td>\n",
       "      <td>243000.000000</td>\n",
       "      <td>192.000000</td>\n",
       "      <td>1.000000</td>\n",
       "      <td>1.000000</td>\n",
       "      <td>2000.000000</td>\n",
       "      <td>1615.00000</td>\n",
       "    </tr>\n",
       "  </tbody>\n",
       "</table>\n",
       "</div>"
      ],
      "text/plain": [
       "              Price          Age             KM           HP     MetColor  \\\n",
       "count   1436.000000  1336.000000    1421.000000  1430.000000  1286.000000   \n",
       "mean   10730.824513    55.672156   68647.239972   101.478322     0.674961   \n",
       "std     3626.964585    18.589804   37333.023589    14.768255     0.468572   \n",
       "min     4350.000000     1.000000       1.000000    69.000000     0.000000   \n",
       "25%     8450.000000    43.000000   43210.000000    90.000000     0.000000   \n",
       "50%     9900.000000    60.000000   63634.000000   110.000000     1.000000   \n",
       "75%    11950.000000    70.000000   87000.000000   110.000000     1.000000   \n",
       "max    32500.000000    80.000000  243000.000000   192.000000     1.000000   \n",
       "\n",
       "         Automatic           CC      Weight  \n",
       "count  1436.000000  1436.000000  1436.00000  \n",
       "mean      0.055710  1566.827994  1072.45961  \n",
       "std       0.229441   187.182436    52.64112  \n",
       "min       0.000000  1300.000000  1000.00000  \n",
       "25%       0.000000  1400.000000  1040.00000  \n",
       "50%       0.000000  1600.000000  1070.00000  \n",
       "75%       0.000000  1600.000000  1085.00000  \n",
       "max       1.000000  2000.000000  1615.00000  "
      ]
     },
     "execution_count": 13,
     "metadata": {},
     "output_type": "execute_result"
    }
   ],
   "source": [
    "cars_data2.describe()"
   ]
  },
  {
   "cell_type": "markdown",
   "id": "3d394cd0-3d2b-4a70-821c-6665adfefca0",
   "metadata": {},
   "source": [
    "#### Imputing missing values of 'Age'\n",
    "- To fill NA/NaN values using the specified value.\n",
    "  - DataFrame.fillna()"
   ]
  },
  {
   "cell_type": "code",
   "execution_count": 14,
   "id": "2f66298c-f546-45db-8551-241d6140216b",
   "metadata": {},
   "outputs": [],
   "source": [
    "cars_data2['Age'].fillna(cars_data2['Age'].mean(),inplace=True)"
   ]
  },
  {
   "cell_type": "code",
   "execution_count": 16,
   "id": "f5b988b1-640c-407d-a95d-5809f2806b74",
   "metadata": {},
   "outputs": [
    {
     "data": {
      "text/plain": [
       "Price          0\n",
       "Age            0\n",
       "KM            15\n",
       "FuelType     100\n",
       "HP             6\n",
       "MetColor     150\n",
       "Automatic      0\n",
       "CC             0\n",
       "Doors          0\n",
       "Weight         0\n",
       "dtype: int64"
      ]
     },
     "execution_count": 16,
     "metadata": {},
     "output_type": "execute_result"
    }
   ],
   "source": [
    "cars_data2.isnull().sum()"
   ]
  },
  {
   "cell_type": "markdown",
   "id": "47223d26-f417-40a8-9ebd-c23f2bff8802",
   "metadata": {},
   "source": [
    "#### Imputing missing values of 'KM'"
   ]
  },
  {
   "cell_type": "code",
   "execution_count": 17,
   "id": "16b75c07-3a8f-4a6d-af42-78eb4aa784f9",
   "metadata": {},
   "outputs": [],
   "source": [
    "cars_data2['KM'].fillna(cars_data2['KM'].median(),inplace=True)"
   ]
  },
  {
   "cell_type": "code",
   "execution_count": 18,
   "id": "235d59d6-2297-415c-bd5b-f41744af2a8e",
   "metadata": {},
   "outputs": [
    {
     "data": {
      "text/plain": [
       "Price          0\n",
       "Age            0\n",
       "KM             0\n",
       "FuelType     100\n",
       "HP             6\n",
       "MetColor     150\n",
       "Automatic      0\n",
       "CC             0\n",
       "Doors          0\n",
       "Weight         0\n",
       "dtype: int64"
      ]
     },
     "execution_count": 18,
     "metadata": {},
     "output_type": "execute_result"
    }
   ],
   "source": [
    "cars_data2.isnull().sum()"
   ]
  },
  {
   "cell_type": "markdown",
   "id": "c8e308b6-1798-4e30-872b-1e4e3f9ed338",
   "metadata": {},
   "source": [
    "#### Imputing missing values of 'HP'"
   ]
  },
  {
   "cell_type": "code",
   "execution_count": 19,
   "id": "8fca54e5-3bc4-499c-8e4b-35cebddb6591",
   "metadata": {},
   "outputs": [],
   "source": [
    "cars_data2['HP'].fillna(cars_data2['HP'].mean(), inplace=True)"
   ]
  },
  {
   "cell_type": "code",
   "execution_count": 20,
   "id": "77d177dc-7d0a-42ef-be2b-a5cbfaea9393",
   "metadata": {},
   "outputs": [
    {
     "data": {
      "text/plain": [
       "Price          0\n",
       "Age            0\n",
       "KM             0\n",
       "FuelType     100\n",
       "HP             0\n",
       "MetColor     150\n",
       "Automatic      0\n",
       "CC             0\n",
       "Doors          0\n",
       "Weight         0\n",
       "dtype: int64"
      ]
     },
     "execution_count": 20,
     "metadata": {},
     "output_type": "execute_result"
    }
   ],
   "source": [
    "cars_data2.isnull().sum()"
   ]
  },
  {
   "cell_type": "markdown",
   "id": "59db7742-3a30-4367-bd1d-1a0d1b601c13",
   "metadata": {},
   "source": [
    "#### Imputing missing values of 'FuelType'"
   ]
  },
  {
   "cell_type": "code",
   "execution_count": 23,
   "id": "fe9e2107-f905-476c-b612-32cb530667f6",
   "metadata": {},
   "outputs": [
    {
     "data": {
      "text/plain": [
       "0    Petrol\n",
       "Name: FuelType, dtype: object"
      ]
     },
     "execution_count": 23,
     "metadata": {},
     "output_type": "execute_result"
    }
   ],
   "source": [
    "cars_data2['FuelType'].mode()"
   ]
  },
  {
   "cell_type": "code",
   "execution_count": 27,
   "id": "fba30ace-1f40-4eb7-b756-285de5ed2822",
   "metadata": {},
   "outputs": [],
   "source": [
    "cars_data2['FuelType'].fillna(cars_data2['FuelType'].mode()[0],inplace=True)"
   ]
  },
  {
   "cell_type": "markdown",
   "id": "21342c80-128f-4346-b300-602e2d88a8f5",
   "metadata": {},
   "source": [
    "#### Imputing missing values of 'MetColor'"
   ]
  },
  {
   "cell_type": "code",
   "execution_count": 24,
   "id": "246a25a6-2584-421e-b4c3-af664b6d1596",
   "metadata": {},
   "outputs": [
    {
     "data": {
      "text/plain": [
       "0    1.0\n",
       "Name: MetColor, dtype: float64"
      ]
     },
     "execution_count": 24,
     "metadata": {},
     "output_type": "execute_result"
    }
   ],
   "source": [
    "cars_data2['MetColor'].mode()"
   ]
  },
  {
   "cell_type": "code",
   "execution_count": 28,
   "id": "ab6e5b7e-1301-42c4-b005-f60eabf11610",
   "metadata": {},
   "outputs": [],
   "source": [
    "cars_data2['MetColor'].fillna(cars_data2['MetColor'].mode()[0], inplace=True)"
   ]
  },
  {
   "cell_type": "code",
   "execution_count": 29,
   "id": "89ad393d-d1f1-4c4b-ad81-b2245146e4cd",
   "metadata": {},
   "outputs": [
    {
     "data": {
      "text/plain": [
       "Price        0\n",
       "Age          0\n",
       "KM           0\n",
       "FuelType     0\n",
       "HP           0\n",
       "MetColor     0\n",
       "Automatic    0\n",
       "CC           0\n",
       "Doors        0\n",
       "Weight       0\n",
       "dtype: int64"
      ]
     },
     "execution_count": 29,
     "metadata": {},
     "output_type": "execute_result"
    }
   ],
   "source": [
    "cars_data2.isnull().sum()"
   ]
  },
  {
   "cell_type": "markdown",
   "id": "ef691b51-db0a-4c2a-beba-9cef565191a1",
   "metadata": {},
   "source": [
    "### Imputing missing values using lambda functions\n",
    "- To fill the NA/NaN values in both numerical and categorical variables at one stretch."
   ]
  },
  {
   "cell_type": "code",
   "execution_count": 31,
   "id": "c3a7a5f9-8926-43c8-8f6b-d8a066b68b6f",
   "metadata": {},
   "outputs": [],
   "source": [
    "cars_data3 = cars_data3.apply(lambda x:x.fillna(x.mean()) if x.dtype=='float' else x.fillna(x.value_counts().index[0]))"
   ]
  },
  {
   "cell_type": "code",
   "execution_count": null,
   "id": "e3cecf6e-6ed4-427d-b393-0d9f7eface7f",
   "metadata": {},
   "outputs": [],
   "source": []
  }
 ],
 "metadata": {
  "kernelspec": {
   "display_name": "Python 3 (ipykernel)",
   "language": "python",
   "name": "python3"
  },
  "language_info": {
   "codemirror_mode": {
    "name": "ipython",
    "version": 3
   },
   "file_extension": ".py",
   "mimetype": "text/x-python",
   "name": "python",
   "nbconvert_exporter": "python",
   "pygments_lexer": "ipython3",
   "version": "3.11.5"
  }
 },
 "nbformat": 4,
 "nbformat_minor": 5
}
