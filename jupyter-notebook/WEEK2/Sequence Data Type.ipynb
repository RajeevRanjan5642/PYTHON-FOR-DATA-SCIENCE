{
 "cells": [
  {
   "cell_type": "markdown",
   "id": "1e358260-838e-493f-bb13-436f6c8addaf",
   "metadata": {},
   "source": [
    "# Sequence Data Type"
   ]
  },
  {
   "cell_type": "markdown",
   "id": "0168f8cb-4ee5-4506-9b1b-3068544f100d",
   "metadata": {},
   "source": [
    "Strings,lists,tuples,arrays and range objects.\n",
    "Dictionaries and sets are containers for non-sequential data."
   ]
  },
  {
   "cell_type": "markdown",
   "id": "f3b4e62d-4754-4d69-9cba-da91c698e48e",
   "metadata": {},
   "source": [
    "## Strings:\n",
    "- Sequence of characters enclosed within \"\" or ''.\n",
    "- Immutable"
   ]
  },
  {
   "cell_type": "code",
   "execution_count": 20,
   "id": "fa11279f-cfa7-4018-8fa9-51806b7a56d7",
   "metadata": {},
   "outputs": [],
   "source": [
    "myString = 'Hello Python'"
   ]
  },
  {
   "cell_type": "code",
   "execution_count": 3,
   "id": "707b9f5e-b38e-421f-a3c6-56f665277763",
   "metadata": {},
   "outputs": [
    {
     "name": "stdout",
     "output_type": "stream",
     "text": [
      "Hello Python\n"
     ]
    }
   ],
   "source": [
    "print(myString)"
   ]
  },
  {
   "cell_type": "markdown",
   "id": "b3d76dea-c4ee-418b-ab12-535a8c123541",
   "metadata": {},
   "source": [
    "### Indexing"
   ]
  },
  {
   "cell_type": "code",
   "execution_count": 4,
   "id": "20331a38-bf5e-4b81-af46-86d24722cd1e",
   "metadata": {},
   "outputs": [
    {
     "data": {
      "text/plain": [
       "2"
      ]
     },
     "execution_count": 4,
     "metadata": {},
     "output_type": "execute_result"
    }
   ],
   "source": [
    "myString.index('l') # to find the index of substring 'l' from myString"
   ]
  },
  {
   "cell_type": "code",
   "execution_count": 5,
   "id": "59ea8a22-5a48-480f-9e87-408b335a6376",
   "metadata": {},
   "outputs": [
    {
     "data": {
      "text/plain": [
       "8"
      ]
     },
     "execution_count": 5,
     "metadata": {},
     "output_type": "execute_result"
    }
   ],
   "source": [
    "myString.index('thon') # will give the index of t"
   ]
  },
  {
   "cell_type": "code",
   "execution_count": 6,
   "id": "8a4985d0-b77b-40e5-8e6f-3810c341fcde",
   "metadata": {},
   "outputs": [
    {
     "ename": "ValueError",
     "evalue": "substring not found",
     "output_type": "error",
     "traceback": [
      "\u001b[1;31m---------------------------------------------------------------------------\u001b[0m",
      "\u001b[1;31mValueError\u001b[0m                                Traceback (most recent call last)",
      "Cell \u001b[1;32mIn[6], line 1\u001b[0m\n\u001b[1;32m----> 1\u001b[0m \u001b[43mmyString\u001b[49m\u001b[38;5;241;43m.\u001b[39;49m\u001b[43mindex\u001b[49m\u001b[43m(\u001b[49m\u001b[38;5;124;43m'\u001b[39;49m\u001b[38;5;124;43ms\u001b[39;49m\u001b[38;5;124;43m'\u001b[39;49m\u001b[43m)\u001b[49m  \u001b[38;5;66;03m# if the substring is not present => ValueError\u001b[39;00m\n",
      "\u001b[1;31mValueError\u001b[0m: substring not found"
     ]
    }
   ],
   "source": [
    "myString.index('s')  # if the substring is not present => ValueError"
   ]
  },
  {
   "cell_type": "code",
   "execution_count": 7,
   "id": "0f351c22-ea8a-4518-82a3-0e082fc89e4e",
   "metadata": {},
   "outputs": [
    {
     "ename": "ValueError",
     "evalue": "substring not found",
     "output_type": "error",
     "traceback": [
      "\u001b[1;31m---------------------------------------------------------------------------\u001b[0m",
      "\u001b[1;31mValueError\u001b[0m                                Traceback (most recent call last)",
      "Cell \u001b[1;32mIn[7], line 1\u001b[0m\n\u001b[1;32m----> 1\u001b[0m \u001b[43mmyString\u001b[49m\u001b[38;5;241;43m.\u001b[39;49m\u001b[43mindex\u001b[49m\u001b[43m(\u001b[49m\u001b[38;5;124;43m'\u001b[39;49m\u001b[38;5;124;43mto\u001b[39;49m\u001b[38;5;124;43m'\u001b[39;49m\u001b[43m)\u001b[49m\n",
      "\u001b[1;31mValueError\u001b[0m: substring not found"
     ]
    }
   ],
   "source": [
    "myString.index('to')"
   ]
  },
  {
   "cell_type": "code",
   "execution_count": 8,
   "id": "b157e3c2-bccb-4a7d-bcb9-6186d60ceb35",
   "metadata": {},
   "outputs": [
    {
     "data": {
      "text/plain": [
       "'o'"
      ]
     },
     "execution_count": 8,
     "metadata": {},
     "output_type": "execute_result"
    }
   ],
   "source": [
    "myString[4]"
   ]
  },
  {
   "cell_type": "code",
   "execution_count": 9,
   "id": "fa1da8ad-95bd-439d-83e0-2ad1976e637a",
   "metadata": {},
   "outputs": [
    {
     "ename": "IndexError",
     "evalue": "string index out of range",
     "output_type": "error",
     "traceback": [
      "\u001b[1;31m---------------------------------------------------------------------------\u001b[0m",
      "\u001b[1;31mIndexError\u001b[0m                                Traceback (most recent call last)",
      "Cell \u001b[1;32mIn[9], line 1\u001b[0m\n\u001b[1;32m----> 1\u001b[0m \u001b[43mmyString\u001b[49m\u001b[43m[\u001b[49m\u001b[38;5;241;43m12\u001b[39;49m\u001b[43m]\u001b[49m\n",
      "\u001b[1;31mIndexError\u001b[0m: string index out of range"
     ]
    }
   ],
   "source": [
    "myString[12]"
   ]
  },
  {
   "cell_type": "code",
   "execution_count": 10,
   "id": "4f57587b-32ee-44c1-8f5d-67e3ca909f79",
   "metadata": {},
   "outputs": [
    {
     "data": {
      "text/plain": [
       "'n'"
      ]
     },
     "execution_count": 10,
     "metadata": {},
     "output_type": "execute_result"
    }
   ],
   "source": [
    "myString[-1]  #last character of string"
   ]
  },
  {
   "cell_type": "code",
   "execution_count": 11,
   "id": "f7f02a76-0268-41fa-8cb9-0193b59272ca",
   "metadata": {},
   "outputs": [
    {
     "data": {
      "text/plain": [
       "'l'"
      ]
     },
     "execution_count": 11,
     "metadata": {},
     "output_type": "execute_result"
    }
   ],
   "source": [
    "myString[-9]"
   ]
  },
  {
   "cell_type": "markdown",
   "id": "73051879-cc27-4d26-a3ed-9771745b6f9e",
   "metadata": {},
   "source": [
    "### slicing\n",
    "- slice(start,stop,step)"
   ]
  },
  {
   "cell_type": "code",
   "execution_count": 12,
   "id": "c899d4b9-7954-438c-9120-55e07110cabe",
   "metadata": {},
   "outputs": [
    {
     "name": "stdout",
     "output_type": "stream",
     "text": [
      "Hello Python\n"
     ]
    }
   ],
   "source": [
    "print(myString)"
   ]
  },
  {
   "cell_type": "code",
   "execution_count": 14,
   "id": "14479e90-d004-4efa-b405-9554af4bdffa",
   "metadata": {},
   "outputs": [
    {
     "data": {
      "text/plain": [
       "'el'"
      ]
     },
     "execution_count": 14,
     "metadata": {},
     "output_type": "execute_result"
    }
   ],
   "source": [
    "myString[slice(1,4,2)]"
   ]
  },
  {
   "cell_type": "code",
   "execution_count": 15,
   "id": "807c8787-ee19-402e-bf48-4e3cc906bcc7",
   "metadata": {},
   "outputs": [
    {
     "data": {
      "text/plain": [
       "'el'"
      ]
     },
     "execution_count": 15,
     "metadata": {},
     "output_type": "execute_result"
    }
   ],
   "source": [
    "myString[1:4:2]"
   ]
  },
  {
   "cell_type": "code",
   "execution_count": 16,
   "id": "50720cf8-1a04-4640-81ee-1e0332bd7a1f",
   "metadata": {},
   "outputs": [
    {
     "data": {
      "text/plain": [
       "'Hello Python'"
      ]
     },
     "execution_count": 16,
     "metadata": {},
     "output_type": "execute_result"
    }
   ],
   "source": [
    "myString[:]"
   ]
  },
  {
   "cell_type": "code",
   "execution_count": 19,
   "id": "0f56cb40-241b-42a8-8ae2-bf6998bcc263",
   "metadata": {},
   "outputs": [
    {
     "data": {
      "text/plain": [
       "'Python'"
      ]
     },
     "execution_count": 19,
     "metadata": {},
     "output_type": "execute_result"
    }
   ],
   "source": [
    "myString[6:]"
   ]
  },
  {
   "cell_type": "code",
   "execution_count": 20,
   "id": "c26e5d2f-7e92-4511-a7b2-928e2d9c5456",
   "metadata": {},
   "outputs": [
    {
     "data": {
      "text/plain": [
       "'Hell'"
      ]
     },
     "execution_count": 20,
     "metadata": {},
     "output_type": "execute_result"
    }
   ],
   "source": [
    "myString[:4]"
   ]
  },
  {
   "cell_type": "code",
   "execution_count": 21,
   "id": "ea23b815-f702-4d19-8452-99383522f41f",
   "metadata": {},
   "outputs": [
    {
     "data": {
      "text/plain": [
       "'HloPto'"
      ]
     },
     "execution_count": 21,
     "metadata": {},
     "output_type": "execute_result"
    }
   ],
   "source": [
    "myString[::2]"
   ]
  },
  {
   "cell_type": "code",
   "execution_count": 23,
   "id": "578f8359-fc4d-455d-940e-f6b3ccaaef41",
   "metadata": {},
   "outputs": [
    {
     "data": {
      "text/plain": [
       "'Pyt'"
      ]
     },
     "execution_count": 23,
     "metadata": {},
     "output_type": "execute_result"
    }
   ],
   "source": [
    "myString[-6:-3]"
   ]
  },
  {
   "cell_type": "markdown",
   "id": "5abd63e3-881d-4a91-b420-779a847ec158",
   "metadata": {},
   "source": [
    "### Concatenation\n",
    "',','+','+='"
   ]
  },
  {
   "cell_type": "code",
   "execution_count": 49,
   "id": "6f159b55-31fd-477c-972f-30a6ef31b365",
   "metadata": {},
   "outputs": [
    {
     "data": {
      "text/plain": [
       "('Hello Python ', 'language')"
      ]
     },
     "execution_count": 49,
     "metadata": {},
     "output_type": "execute_result"
    }
   ],
   "source": [
    "myString+' ','language'"
   ]
  },
  {
   "cell_type": "code",
   "execution_count": 44,
   "id": "c17a57aa-7b02-4fe4-936e-e52accc1cb19",
   "metadata": {},
   "outputs": [
    {
     "name": "stdout",
     "output_type": "stream",
     "text": [
      "Hello Python\n"
     ]
    }
   ],
   "source": [
    "print(myString)"
   ]
  },
  {
   "cell_type": "code",
   "execution_count": 46,
   "id": "320b841d-0289-4aab-8882-63a4e3a9d0ec",
   "metadata": {},
   "outputs": [
    {
     "name": "stdout",
     "output_type": "stream",
     "text": [
      "('Hello Python ', 'language')\n",
      "<class 'tuple'>\n"
     ]
    }
   ],
   "source": [
    "newString = myString + ' ','language'\n",
    "print(newString)\n",
    "print(type(newString))"
   ]
  },
  {
   "cell_type": "code",
   "execution_count": 48,
   "id": "2015d995-41af-4e6e-92ca-5e409a8ed817",
   "metadata": {},
   "outputs": [
    {
     "name": "stdout",
     "output_type": "stream",
     "text": [
      "Hello Python language\n"
     ]
    }
   ],
   "source": [
    "newString = myString + ' ' + 'language'\n",
    "print(newString)"
   ]
  },
  {
   "cell_type": "code",
   "execution_count": 47,
   "id": "ca572568-fbdf-4ba4-88a5-220ddca6427a",
   "metadata": {},
   "outputs": [
    {
     "name": "stdout",
     "output_type": "stream",
     "text": [
      "Hello Python language\n"
     ]
    }
   ],
   "source": [
    "print(myString,'language')"
   ]
  },
  {
   "cell_type": "markdown",
   "id": "5a3ba120-e8a7-441a-9ece-48afac85b46f",
   "metadata": {},
   "source": [
    "### Multiplication"
   ]
  },
  {
   "cell_type": "code",
   "execution_count": 21,
   "id": "e97c82e9-2cac-4660-93e4-58de4c7c38d8",
   "metadata": {},
   "outputs": [
    {
     "name": "stdout",
     "output_type": "stream",
     "text": [
      "Hello PythonHello PythonHello Python\n"
     ]
    }
   ],
   "source": [
    "myString*=3\n",
    "print(myString)"
   ]
  },
  {
   "cell_type": "markdown",
   "id": "5a0fe952-71b8-467c-871e-684014fa2c13",
   "metadata": {},
   "source": [
    "### string methods"
   ]
  },
  {
   "cell_type": "code",
   "execution_count": 26,
   "id": "2308b19a-d847-4034-b5e1-f2c85b31a5e8",
   "metadata": {},
   "outputs": [
    {
     "name": "stdout",
     "output_type": "stream",
     "text": [
      "learning is fun !\n"
     ]
    }
   ],
   "source": [
    "strSample = 'learning is fun !'\n",
    "print(strSample)"
   ]
  },
  {
   "cell_type": "code",
   "execution_count": 30,
   "id": "c999f231-0454-4fb5-b439-8d049713f0fd",
   "metadata": {},
   "outputs": [
    {
     "data": {
      "text/plain": [
       "'Learning is fun !'"
      ]
     },
     "execution_count": 30,
     "metadata": {},
     "output_type": "execute_result"
    }
   ],
   "source": [
    "strSample.capitalize() #first character of string is capitalised and rest lowercased"
   ]
  },
  {
   "cell_type": "code",
   "execution_count": 28,
   "id": "fdce9341-b8bf-41f7-b215-bce92ec3c888",
   "metadata": {},
   "outputs": [
    {
     "data": {
      "text/plain": [
       "'learning is fun !'"
      ]
     },
     "execution_count": 28,
     "metadata": {},
     "output_type": "execute_result"
    }
   ],
   "source": [
    "strSample"
   ]
  },
  {
   "cell_type": "code",
   "execution_count": 31,
   "id": "ddc1ad29-b95d-47bd-a09e-cde17299619a",
   "metadata": {},
   "outputs": [
    {
     "data": {
      "text/plain": [
       "'Learning Is Fun !'"
      ]
     },
     "execution_count": 31,
     "metadata": {},
     "output_type": "execute_result"
    }
   ],
   "source": [
    "strSample.title() # capitalise first character of each word"
   ]
  },
  {
   "cell_type": "code",
   "execution_count": 33,
   "id": "e18bf408-313d-4dae-8193-346f32f390c4",
   "metadata": {},
   "outputs": [
    {
     "data": {
      "text/plain": [
       "'LEARNING IS FUN !'"
      ]
     },
     "execution_count": 33,
     "metadata": {},
     "output_type": "execute_result"
    }
   ],
   "source": [
    "strSample.swapcase() # swap the case of strings"
   ]
  },
  {
   "cell_type": "code",
   "execution_count": 36,
   "id": "49490dc2-8470-475a-9e9a-0732c152b81a",
   "metadata": {},
   "outputs": [
    {
     "data": {
      "text/plain": [
       "5"
      ]
     },
     "execution_count": 36,
     "metadata": {},
     "output_type": "execute_result"
    }
   ],
   "source": [
    "strSample.find('in') # returns the index of given substring"
   ]
  },
  {
   "cell_type": "code",
   "execution_count": 38,
   "id": "1f69b17e-cb54-4ff8-a34f-06b76e657179",
   "metadata": {},
   "outputs": [
    {
     "data": {
      "text/plain": [
       "-1"
      ]
     },
     "execution_count": 38,
     "metadata": {},
     "output_type": "execute_result"
    }
   ],
   "source": [
    "strSample.find('z') # returns -1 if substring not found"
   ]
  },
  {
   "cell_type": "code",
   "execution_count": 40,
   "id": "defe14f3-8c60-4abe-b9f9-e6107b6654bb",
   "metadata": {},
   "outputs": [
    {
     "data": {
      "text/plain": [
       "3"
      ]
     },
     "execution_count": 40,
     "metadata": {},
     "output_type": "execute_result"
    }
   ],
   "source": [
    "strSample.count('n') # returns the no. of occurences of 'n'"
   ]
  },
  {
   "cell_type": "code",
   "execution_count": 41,
   "id": "fceb72b1-3c43-41b4-8bf1-cb35bb588b27",
   "metadata": {},
   "outputs": [
    {
     "data": {
      "text/plain": [
       "'learning is joyful !'"
      ]
     },
     "execution_count": 41,
     "metadata": {},
     "output_type": "execute_result"
    }
   ],
   "source": [
    "strSample.replace('fun', 'joyful')"
   ]
  },
  {
   "cell_type": "code",
   "execution_count": 43,
   "id": "c1547aea-28b5-418b-8347-794a8fd191e4",
   "metadata": {},
   "outputs": [
    {
     "data": {
      "text/plain": [
       "False"
      ]
     },
     "execution_count": 43,
     "metadata": {},
     "output_type": "execute_result"
    }
   ],
   "source": [
    "strSample.isalnum() #returns true if the given string is alphanumeric"
   ]
  },
  {
   "cell_type": "code",
   "execution_count": 45,
   "id": "3b35329c-b448-446c-b975-0a2b9ff81713",
   "metadata": {},
   "outputs": [
    {
     "name": "stdout",
     "output_type": "stream",
     "text": [
      "GITAA PVT. LTD.\n"
     ]
    }
   ],
   "source": [
    "# formatting\n",
    "name1 = 'GITAA';\n",
    "name2 = 'PVT';\n",
    "name3 = 'LTD';\n",
    "\n",
    "name = '{} {}. {}.'.format(name1,name2,name3);\n",
    "print(name)"
   ]
  },
  {
   "cell_type": "code",
   "execution_count": 47,
   "id": "0e09d694-6ab1-46cb-b18c-dcf8ca238299",
   "metadata": {},
   "outputs": [
    {
     "name": "stdout",
     "output_type": "stream",
     "text": [
      "['__add__', '__class__', '__contains__', '__delattr__', '__dir__', '__doc__', '__eq__', '__format__', '__ge__', '__getattribute__', '__getitem__', '__getnewargs__', '__getstate__', '__gt__', '__hash__', '__init__', '__init_subclass__', '__iter__', '__le__', '__len__', '__lt__', '__mod__', '__mul__', '__ne__', '__new__', '__reduce__', '__reduce_ex__', '__repr__', '__rmod__', '__rmul__', '__setattr__', '__sizeof__', '__str__', '__subclasshook__', 'capitalize', 'casefold', 'center', 'count', 'encode', 'endswith', 'expandtabs', 'find', 'format', 'format_map', 'index', 'isalnum', 'isalpha', 'isascii', 'isdecimal', 'isdigit', 'isidentifier', 'islower', 'isnumeric', 'isprintable', 'isspace', 'istitle', 'isupper', 'join', 'ljust', 'lower', 'lstrip', 'maketrans', 'partition', 'removeprefix', 'removesuffix', 'replace', 'rfind', 'rindex', 'rjust', 'rpartition', 'rsplit', 'rstrip', 'split', 'splitlines', 'startswith', 'strip', 'swapcase', 'title', 'translate', 'upper', 'zfill']\n"
     ]
    }
   ],
   "source": [
    "print(dir(name)) # returns all the functions or attributes that can be used with name"
   ]
  },
  {
   "cell_type": "code",
   "execution_count": 1,
   "id": "7b9c676c-cafa-492a-ab92-14ae198a96c2",
   "metadata": {},
   "outputs": [],
   "source": [
    "#print(help(str))"
   ]
  },
  {
   "cell_type": "code",
   "execution_count": 49,
   "id": "8596d3c9-d728-4f4a-bb91-56d76ce392b5",
   "metadata": {},
   "outputs": [
    {
     "name": "stdout",
     "output_type": "stream",
     "text": [
      "Help on method_descriptor:\n",
      "\n",
      "find(...)\n",
      "    S.find(sub[, start[, end]]) -> int\n",
      "    \n",
      "    Return the lowest index in S where substring sub is found,\n",
      "    such that sub is contained within S[start:end].  Optional\n",
      "    arguments start and end are interpreted as in slice notation.\n",
      "    \n",
      "    Return -1 on failure.\n",
      "\n",
      "None\n"
     ]
    }
   ],
   "source": [
    "print(help(str.find))"
   ]
  },
  {
   "cell_type": "code",
   "execution_count": 50,
   "id": "c3326cf9-43ac-4617-ab12-8626d0fd47f8",
   "metadata": {},
   "outputs": [
    {
     "name": "stdout",
     "output_type": "stream",
     "text": [
      "17\n"
     ]
    }
   ],
   "source": [
    "print(len(strSample))"
   ]
  },
  {
   "cell_type": "code",
   "execution_count": 51,
   "id": "4c26d0c3-dbce-4999-8e69-8cfc51ce7b55",
   "metadata": {},
   "outputs": [
    {
     "ename": "AttributeError",
     "evalue": "'str' object has no attribute 'clear'",
     "output_type": "error",
     "traceback": [
      "\u001b[1;31m---------------------------------------------------------------------------\u001b[0m",
      "\u001b[1;31mAttributeError\u001b[0m                            Traceback (most recent call last)",
      "Cell \u001b[1;32mIn[51], line 1\u001b[0m\n\u001b[1;32m----> 1\u001b[0m \u001b[43mstrSample\u001b[49m\u001b[38;5;241;43m.\u001b[39;49m\u001b[43mclear\u001b[49m()\n",
      "\u001b[1;31mAttributeError\u001b[0m: 'str' object has no attribute 'clear'"
     ]
    }
   ],
   "source": [
    "strSample.clear()"
   ]
  },
  {
   "cell_type": "markdown",
   "id": "33586e3a-7bd1-462b-be21-508c91a75b31",
   "metadata": {},
   "source": [
    "## Lists:\n",
    "- Sequence of multi-data type objects enclosed within []."
   ]
  },
  {
   "cell_type": "code",
   "execution_count": 23,
   "id": "41add860-a5ec-4d6e-8847-8f4afed25367",
   "metadata": {},
   "outputs": [
    {
     "name": "stdout",
     "output_type": "stream",
     "text": [
      "[1, 2, 'hi', False, 3.56]\n"
     ]
    }
   ],
   "source": [
    "myList = [1,2,'hi',False,3.56]\n",
    "print(myList)"
   ]
  },
  {
   "cell_type": "markdown",
   "id": "9d02e301-d179-40fa-8e58-29b217baf6e6",
   "metadata": {},
   "source": [
    "### indexing"
   ]
  },
  {
   "cell_type": "code",
   "execution_count": 25,
   "id": "65f0c8c2-d7fe-4c17-b017-86b6e2d5ca4b",
   "metadata": {},
   "outputs": [
    {
     "data": {
      "text/plain": [
       "2"
      ]
     },
     "execution_count": 25,
     "metadata": {},
     "output_type": "execute_result"
    }
   ],
   "source": [
    "myList.index('hi') # to find the index of element 'hi'"
   ]
  },
  {
   "cell_type": "code",
   "execution_count": 26,
   "id": "f6dc742c-4fdc-4673-bcbb-ae571b6aa9fd",
   "metadata": {},
   "outputs": [
    {
     "data": {
      "text/plain": [
       "3.56"
      ]
     },
     "execution_count": 26,
     "metadata": {},
     "output_type": "execute_result"
    }
   ],
   "source": [
    "myList[4] # to find the element corresponding to 5th position"
   ]
  },
  {
   "cell_type": "code",
   "execution_count": 27,
   "id": "311ff0a3-ce2e-484d-b856-adb185fcc24d",
   "metadata": {},
   "outputs": [
    {
     "data": {
      "text/plain": [
       "False"
      ]
     },
     "execution_count": 27,
     "metadata": {},
     "output_type": "execute_result"
    }
   ],
   "source": [
    "myList[-2]"
   ]
  },
  {
   "cell_type": "markdown",
   "id": "baec6e51-83ba-4775-8a7e-d5e75cca7a52",
   "metadata": {},
   "source": [
    "### slicing"
   ]
  },
  {
   "cell_type": "code",
   "execution_count": 28,
   "id": "969a5ff9-789a-4e05-854d-c3165808b917",
   "metadata": {},
   "outputs": [
    {
     "name": "stdout",
     "output_type": "stream",
     "text": [
      "[1, 2, 'hi', False, 3.56]\n"
     ]
    }
   ],
   "source": [
    "print(myList)"
   ]
  },
  {
   "cell_type": "code",
   "execution_count": 29,
   "id": "eff2973b-1a2d-4a40-9b90-0e89a924c103",
   "metadata": {},
   "outputs": [
    {
     "data": {
      "text/plain": [
       "[1, 2, 'hi']"
      ]
     },
     "execution_count": 29,
     "metadata": {},
     "output_type": "execute_result"
    }
   ],
   "source": [
    "myList[:3]"
   ]
  },
  {
   "cell_type": "code",
   "execution_count": 31,
   "id": "7922f27c-99fa-4334-88d0-1bcc8b6febfe",
   "metadata": {},
   "outputs": [
    {
     "data": {
      "text/plain": [
       "['hi', False, 3.56]"
      ]
     },
     "execution_count": 31,
     "metadata": {},
     "output_type": "execute_result"
    }
   ],
   "source": [
    "myList[2:]"
   ]
  },
  {
   "cell_type": "markdown",
   "id": "bf9135f0-c072-4281-83da-2416dc4153c5",
   "metadata": {},
   "source": [
    "### concatenation"
   ]
  },
  {
   "cell_type": "code",
   "execution_count": 50,
   "id": "3be2e957-5117-4d20-bc5d-abf3b2f12393",
   "metadata": {},
   "outputs": [
    {
     "name": "stdout",
     "output_type": "stream",
     "text": [
      "[1, 2, 'hi', False, 3.56]\n"
     ]
    }
   ],
   "source": [
    "print(myList)"
   ]
  },
  {
   "cell_type": "code",
   "execution_count": 51,
   "id": "11006a16-6726-4d18-a878-197f0b8ea1b8",
   "metadata": {},
   "outputs": [
    {
     "data": {
      "text/plain": [
       "[1, 2, 'hi', False, 3.56, 'Ram']"
      ]
     },
     "execution_count": 51,
     "metadata": {},
     "output_type": "execute_result"
    }
   ],
   "source": [
    "myList + ['Ram']"
   ]
  },
  {
   "cell_type": "code",
   "execution_count": 52,
   "id": "a8ca68d9-33f8-423a-b94f-d95c3070ce8d",
   "metadata": {},
   "outputs": [
    {
     "name": "stdout",
     "output_type": "stream",
     "text": [
      "[1, 2, 'hi', False, 3.56]\n"
     ]
    }
   ],
   "source": [
    "print(myList)"
   ]
  },
  {
   "cell_type": "code",
   "execution_count": 53,
   "id": "9c05cec6-b3cb-4658-a342-056511ef56f7",
   "metadata": {},
   "outputs": [
    {
     "ename": "TypeError",
     "evalue": "can only concatenate list (not \"tuple\") to list",
     "output_type": "error",
     "traceback": [
      "\u001b[1;31m---------------------------------------------------------------------------\u001b[0m",
      "\u001b[1;31mTypeError\u001b[0m                                 Traceback (most recent call last)",
      "Cell \u001b[1;32mIn[53], line 1\u001b[0m\n\u001b[1;32m----> 1\u001b[0m \u001b[43mmyList\u001b[49m\u001b[43m \u001b[49m\u001b[38;5;241;43m+\u001b[39;49m\u001b[43m \u001b[49m\u001b[43m(\u001b[49m\u001b[38;5;241;43m1\u001b[39;49m\u001b[43m,\u001b[49m\u001b[38;5;241;43m2\u001b[39;49m\u001b[43m)\u001b[49m\n",
      "\u001b[1;31mTypeError\u001b[0m: can only concatenate list (not \"tuple\") to list"
     ]
    }
   ],
   "source": [
    "myList + (1,2)"
   ]
  },
  {
   "cell_type": "markdown",
   "id": "2945fb1d-b1ea-4e8d-8395-17a823453dfa",
   "metadata": {},
   "source": [
    "### multiplication"
   ]
  },
  {
   "cell_type": "code",
   "execution_count": 24,
   "id": "f7e5405b-2dc2-459e-8a53-dd5a28c3bb40",
   "metadata": {},
   "outputs": [
    {
     "name": "stdout",
     "output_type": "stream",
     "text": [
      "[1, 2, 'hi', False, 3.56, 1, 2, 'hi', False, 3.56, 1, 2, 'hi', False, 3.56]\n"
     ]
    }
   ],
   "source": [
    "print(myList*3)"
   ]
  },
  {
   "cell_type": "markdown",
   "id": "84f8e9fa-f67c-4dbe-b831-c851657801f8",
   "metadata": {},
   "source": [
    "### List Methods"
   ]
  },
  {
   "cell_type": "code",
   "execution_count": 52,
   "id": "69907e82-3e5c-4d60-a862-4a02ac90a979",
   "metadata": {},
   "outputs": [
    {
     "name": "stdout",
     "output_type": "stream",
     "text": [
      "5\n"
     ]
    }
   ],
   "source": [
    "# 1.length\n",
    "print(len(myList))"
   ]
  },
  {
   "cell_type": "code",
   "execution_count": 55,
   "id": "a7ba4258-ddde-4796-b738-7fc055426cb7",
   "metadata": {},
   "outputs": [],
   "source": [
    "myList.clear() #remove all the items from the object"
   ]
  },
  {
   "cell_type": "code",
   "execution_count": 54,
   "id": "c70eee3f-4e58-4fb4-9038-fd6206107724",
   "metadata": {},
   "outputs": [
    {
     "name": "stdout",
     "output_type": "stream",
     "text": [
      "[]\n"
     ]
    }
   ],
   "source": [
    "print(myList)"
   ]
  },
  {
   "cell_type": "code",
   "execution_count": 56,
   "id": "29c94ec6-5fb1-4b16-864a-694698eff89c",
   "metadata": {},
   "outputs": [
    {
     "name": "stdout",
     "output_type": "stream",
     "text": [
      "[3.14, 'Rajeev', True, 2, 1]\n"
     ]
    }
   ],
   "source": [
    "myList = [1,2,True,'Rajeev',3.14]\n",
    "myList.reverse()\n",
    "print(myList)"
   ]
  },
  {
   "cell_type": "code",
   "execution_count": 74,
   "id": "570a5467-c9c6-4662-a44e-f4dd7e9aa898",
   "metadata": {},
   "outputs": [],
   "source": [
    "myList.append('HI')"
   ]
  },
  {
   "cell_type": "code",
   "execution_count": 75,
   "id": "c9a99af2-9aa1-4607-84e2-02d42bbd1c0e",
   "metadata": {},
   "outputs": [
    {
     "name": "stdout",
     "output_type": "stream",
     "text": [
      "[3.14, 'Rajeev', True, 2, 1, 'HI']\n"
     ]
    }
   ],
   "source": [
    "print(myList)"
   ]
  },
  {
   "cell_type": "code",
   "execution_count": 76,
   "id": "17b81403-f400-4e9a-8122-a2d3e997d6c0",
   "metadata": {},
   "outputs": [
    {
     "ename": "TypeError",
     "evalue": "list.append() takes exactly one argument (2 given)",
     "output_type": "error",
     "traceback": [
      "\u001b[1;31m---------------------------------------------------------------------------\u001b[0m",
      "\u001b[1;31mTypeError\u001b[0m                                 Traceback (most recent call last)",
      "Cell \u001b[1;32mIn[76], line 1\u001b[0m\n\u001b[1;32m----> 1\u001b[0m \u001b[43mmyList\u001b[49m\u001b[38;5;241;43m.\u001b[39;49m\u001b[43mappend\u001b[49m\u001b[43m(\u001b[49m\u001b[38;5;241;43m4\u001b[39;49m\u001b[43m,\u001b[49m\u001b[38;5;241;43m5\u001b[39;49m\u001b[43m)\u001b[49m\n\u001b[0;32m      2\u001b[0m \u001b[38;5;28mprint\u001b[39m(myList)\n",
      "\u001b[1;31mTypeError\u001b[0m: list.append() takes exactly one argument (2 given)"
     ]
    }
   ],
   "source": [
    "myList.append(4,5)\n",
    "print(myList)"
   ]
  },
  {
   "cell_type": "code",
   "execution_count": 77,
   "id": "378d8d12-a0a1-4526-826b-33abdac9230a",
   "metadata": {},
   "outputs": [
    {
     "name": "stdout",
     "output_type": "stream",
     "text": [
      "[3.14, 'Rajeev', True, 2, 1, 'HI', (4, 5)]\n"
     ]
    }
   ],
   "source": [
    "myList.append((4,5))\n",
    "print(myList)"
   ]
  },
  {
   "cell_type": "code",
   "execution_count": 97,
   "id": "1af5029d-8650-4c33-bc87-97ab9c5ba7f4",
   "metadata": {},
   "outputs": [
    {
     "name": "stdout",
     "output_type": "stream",
     "text": [
      "[3.14, False, 'Rajeev', True, 2, 1, 'HI', (4, 5)]\n"
     ]
    }
   ],
   "source": [
    "myList.insert(1,False) # insert False at 2nd position\n",
    "print(myList)"
   ]
  },
  {
   "cell_type": "code",
   "execution_count": 100,
   "id": "d70d37b6-75a8-4395-bc6a-ba2bf2f55a69",
   "metadata": {},
   "outputs": [
    {
     "data": {
      "text/plain": [
       "2"
      ]
     },
     "execution_count": 100,
     "metadata": {},
     "output_type": "execute_result"
    }
   ],
   "source": [
    "myList.pop(4) # removes the element at 4th index and returns the same"
   ]
  },
  {
   "cell_type": "code",
   "execution_count": 101,
   "id": "22d65b89-a6fd-42db-9fcc-ff5cc1e23db3",
   "metadata": {},
   "outputs": [
    {
     "name": "stdout",
     "output_type": "stream",
     "text": [
      "[3.14, False, 'Rajeev', True, 1, 'HI', (4, 5)]\n"
     ]
    }
   ],
   "source": [
    "print(myList)"
   ]
  },
  {
   "cell_type": "code",
   "execution_count": 112,
   "id": "07a7c626-1733-4683-a744-4661d882eabc",
   "metadata": {},
   "outputs": [
    {
     "name": "stdout",
     "output_type": "stream",
     "text": [
      "[3.14, False, 'Rajeev', True, 1, 'HI']\n"
     ]
    }
   ],
   "source": [
    "myList.remove((4,5))\n",
    "print(myList)"
   ]
  },
  {
   "cell_type": "code",
   "execution_count": 124,
   "id": "188f0be5-14c0-42ff-8446-366a31f85542",
   "metadata": {},
   "outputs": [
    {
     "data": {
      "text/plain": [
       "[1, 2, 3, 4, 5, 6, 7, 8, 9, 10]"
      ]
     },
     "execution_count": 124,
     "metadata": {},
     "output_type": "execute_result"
    }
   ],
   "source": [
    "# create a list using loop and function\n",
    "def numbers(n):\n",
    "    return [i for i in range(1,n+1)]\n",
    "numbers(10)"
   ]
  },
  {
   "cell_type": "markdown",
   "id": "aa4864c3-2d8e-4544-bf1c-786c84cd171b",
   "metadata": {},
   "source": [
    "## Arrays:\n",
    "- sequence of homogeneous data type objects enclosed within {}. "
   ]
  },
  {
   "cell_type": "code",
   "execution_count": 78,
   "id": "0f5f2cc9-dced-409a-912e-31fc96bd6e94",
   "metadata": {},
   "outputs": [],
   "source": [
    "# import array module from array package\n",
    "from array import array"
   ]
  },
  {
   "cell_type": "code",
   "execution_count": 33,
   "id": "3ee1ddd4-13f5-4a51-840f-0484c84ca46e",
   "metadata": {},
   "outputs": [
    {
     "name": "stdout",
     "output_type": "stream",
     "text": [
      "array('i', [1, 2, 3, 4, 5])\n"
     ]
    }
   ],
   "source": [
    "myArray = array('i',[1,2,3,4,5])\n",
    "print(myArray)"
   ]
  },
  {
   "cell_type": "code",
   "execution_count": 34,
   "id": "5ad29c0a-391b-4e43-ad46-62b15cd51bd0",
   "metadata": {},
   "outputs": [
    {
     "name": "stdout",
     "output_type": "stream",
     "text": [
      "1\n",
      "2\n",
      "3\n",
      "4\n",
      "5\n"
     ]
    }
   ],
   "source": [
    "for i in myArray:\n",
    "    print(i)"
   ]
  },
  {
   "cell_type": "markdown",
   "id": "e5ca532b-bd20-4a4a-8317-029e293b7a9a",
   "metadata": {},
   "source": [
    "### indexing"
   ]
  },
  {
   "cell_type": "code",
   "execution_count": 35,
   "id": "2e15c700-25a8-4a06-a7cf-e058453db809",
   "metadata": {},
   "outputs": [
    {
     "data": {
      "text/plain": [
       "2"
      ]
     },
     "execution_count": 35,
     "metadata": {},
     "output_type": "execute_result"
    }
   ],
   "source": [
    "myArray.index(3)"
   ]
  },
  {
   "cell_type": "code",
   "execution_count": 36,
   "id": "5c0d6f58-9a89-4269-9565-0da43b1bf2de",
   "metadata": {},
   "outputs": [
    {
     "data": {
      "text/plain": [
       "2"
      ]
     },
     "execution_count": 36,
     "metadata": {},
     "output_type": "execute_result"
    }
   ],
   "source": [
    "myArray[-4]"
   ]
  },
  {
   "cell_type": "markdown",
   "id": "6dd51681-3981-4a81-95a8-c44387b1b7ec",
   "metadata": {},
   "source": [
    "### slicing"
   ]
  },
  {
   "cell_type": "code",
   "execution_count": 37,
   "id": "10a40d52-f9fd-470e-9d80-8cd6921cc872",
   "metadata": {},
   "outputs": [
    {
     "name": "stdout",
     "output_type": "stream",
     "text": [
      "1\n",
      "2\n",
      "3\n",
      "4\n",
      "5\n"
     ]
    }
   ],
   "source": [
    "for i in myArray: print(i)"
   ]
  },
  {
   "cell_type": "code",
   "execution_count": 38,
   "id": "a0922e34-5ef6-46ce-9cde-302ab69f6465",
   "metadata": {},
   "outputs": [
    {
     "data": {
      "text/plain": [
       "array('i', [2, 3, 4])"
      ]
     },
     "execution_count": 38,
     "metadata": {},
     "output_type": "execute_result"
    }
   ],
   "source": [
    "myArray[1:-1]"
   ]
  },
  {
   "cell_type": "markdown",
   "id": "3201bbad-0827-4157-8977-cb42419d056a",
   "metadata": {},
   "source": [
    "### Concatenation"
   ]
  },
  {
   "cell_type": "code",
   "execution_count": 55,
   "id": "9db77231-011f-4897-a403-1de35f8d2405",
   "metadata": {},
   "outputs": [
    {
     "data": {
      "text/plain": [
       "array('i', [1, 2, 3, 4, 5, 6, 7])"
      ]
     },
     "execution_count": 55,
     "metadata": {},
     "output_type": "execute_result"
    }
   ],
   "source": [
    "myArray + array('i',[6,7])"
   ]
  },
  {
   "cell_type": "markdown",
   "id": "55b21345-c494-4466-8057-4da8456dd962",
   "metadata": {},
   "source": [
    "### Array Methods"
   ]
  },
  {
   "cell_type": "code",
   "execution_count": 79,
   "id": "382cd8de-6cb1-4f66-adb6-1ecc7c4dd8b6",
   "metadata": {},
   "outputs": [
    {
     "name": "stdout",
     "output_type": "stream",
     "text": [
      "array('i', [1, 2, 3, 4, 5])\n"
     ]
    }
   ],
   "source": [
    "myArray = array('i',[1,2,3,4,5]);\n",
    "print(myArray)"
   ]
  },
  {
   "cell_type": "code",
   "execution_count": 80,
   "id": "857c6450-3943-4912-8f4e-647fcb17f33e",
   "metadata": {},
   "outputs": [
    {
     "name": "stdout",
     "output_type": "stream",
     "text": [
      "array('i', [1, 2, 3, 4, 5, 6])\n"
     ]
    }
   ],
   "source": [
    "myArray.append(6);\n",
    "print(myArray)"
   ]
  },
  {
   "cell_type": "code",
   "execution_count": 96,
   "id": "9ec4cc96-b745-4026-bcaa-4925191909bf",
   "metadata": {},
   "outputs": [
    {
     "name": "stdout",
     "output_type": "stream",
     "text": [
      "array('i', [1, 100, 2, 3, 4, 5, 6])\n"
     ]
    }
   ],
   "source": [
    "myArray.insert(1,100) # insert 100 at 2nd position\n",
    "print(myArray)"
   ]
  },
  {
   "cell_type": "code",
   "execution_count": 98,
   "id": "ae0c3a94-1047-4d7e-a31e-1d9f64a5722e",
   "metadata": {},
   "outputs": [
    {
     "data": {
      "text/plain": [
       "6"
      ]
     },
     "execution_count": 98,
     "metadata": {},
     "output_type": "execute_result"
    }
   ],
   "source": [
    "myArray.pop() #removes the last element and returns the same"
   ]
  },
  {
   "cell_type": "code",
   "execution_count": 99,
   "id": "4d5fd399-4d05-4082-b73d-4ed3e116a9ce",
   "metadata": {},
   "outputs": [
    {
     "name": "stdout",
     "output_type": "stream",
     "text": [
      "array('i', [1, 100, 2, 3, 4, 5])\n"
     ]
    }
   ],
   "source": [
    "print(myArray)"
   ]
  },
  {
   "cell_type": "code",
   "execution_count": 111,
   "id": "66ffcf2e-cb12-4019-a2a8-f105f7cb653a",
   "metadata": {},
   "outputs": [
    {
     "name": "stdout",
     "output_type": "stream",
     "text": [
      "array('i', [1, 2, 3, 4, 5])\n"
     ]
    }
   ],
   "source": [
    "myArray.remove(100) # removes the element 100 from myArray\n",
    "print(myArray)"
   ]
  },
  {
   "cell_type": "code",
   "execution_count": 120,
   "id": "ca5304f0-425f-49ce-95ba-91ea94417f4a",
   "metadata": {},
   "outputs": [
    {
     "name": "stdout",
     "output_type": "stream",
     "text": [
      "array('i', [1, 2, 4, 5, 6, 7, 8])\n"
     ]
    }
   ],
   "source": [
    "myArray.extend([6,7,8])  # extend() method adds the specified list of elements (or any iterable - list,set,tuple, etc.) to the end of the current list\n",
    "print(myArray)"
   ]
  },
  {
   "cell_type": "code",
   "execution_count": 123,
   "id": "316cf441-44f6-4fd3-af68-e0edc06bc5b6",
   "metadata": {},
   "outputs": [
    {
     "data": {
      "text/plain": [
       "[1, 2, 4, 5, 6, 7, 8]"
      ]
     },
     "execution_count": 123,
     "metadata": {},
     "output_type": "execute_result"
    }
   ],
   "source": [
    "myArray.tolist()"
   ]
  },
  {
   "cell_type": "markdown",
   "id": "08f487a7-8f2c-4d5d-b2b6-f061ffc0543f",
   "metadata": {},
   "source": [
    "## Tuple:\n",
    "- sequence of heterogeneous data type objects enclosed within ().\n",
    "- immutable "
   ]
  },
  {
   "cell_type": "code",
   "execution_count": 1,
   "id": "fec15d92-9e40-4006-9515-428b643093f8",
   "metadata": {},
   "outputs": [],
   "source": [
    "myTuple = (1,2,3,4,5,'hi')"
   ]
  },
  {
   "cell_type": "code",
   "execution_count": 2,
   "id": "f8fe778a-b88c-48f0-9f9d-7b65e3bda67e",
   "metadata": {},
   "outputs": [
    {
     "name": "stdout",
     "output_type": "stream",
     "text": [
      "(1, 2, 3, 4, 5, 'hi')\n"
     ]
    }
   ],
   "source": [
    "print(myTuple)"
   ]
  },
  {
   "cell_type": "code",
   "execution_count": 3,
   "id": "bde1291b-7b95-4515-af5f-e964b58b683c",
   "metadata": {},
   "outputs": [],
   "source": [
    "myTuple2 = 1,5,'hi',True #Tuple packing"
   ]
  },
  {
   "cell_type": "code",
   "execution_count": 4,
   "id": "de1f717d-9f46-4727-ad0a-39d115191310",
   "metadata": {},
   "outputs": [
    {
     "name": "stdout",
     "output_type": "stream",
     "text": [
      "(1, 5, 'hi', True)\n"
     ]
    }
   ],
   "source": [
    "print(myTuple2)"
   ]
  },
  {
   "cell_type": "code",
   "execution_count": 5,
   "id": "1e04733e-3bbc-415d-abac-14528e6f33a9",
   "metadata": {},
   "outputs": [
    {
     "name": "stdout",
     "output_type": "stream",
     "text": [
      "<class 'tuple'>\n"
     ]
    }
   ],
   "source": [
    "print(type(myTuple2))"
   ]
  },
  {
   "cell_type": "markdown",
   "id": "c2cccf9c-065d-4837-b891-51bedb646cae",
   "metadata": {},
   "source": [
    "### indexing"
   ]
  },
  {
   "cell_type": "code",
   "execution_count": 6,
   "id": "c1025c32-dd55-424a-bad3-4a163bd12ba5",
   "metadata": {},
   "outputs": [
    {
     "data": {
      "text/plain": [
       "5"
      ]
     },
     "execution_count": 6,
     "metadata": {},
     "output_type": "execute_result"
    }
   ],
   "source": [
    "myTuple.index('hi')"
   ]
  },
  {
   "cell_type": "code",
   "execution_count": 7,
   "id": "f7758e02-1ddd-496c-99fe-652e39f33475",
   "metadata": {},
   "outputs": [
    {
     "data": {
      "text/plain": [
       "4"
      ]
     },
     "execution_count": 7,
     "metadata": {},
     "output_type": "execute_result"
    }
   ],
   "source": [
    "myTuple[-3]"
   ]
  },
  {
   "cell_type": "code",
   "execution_count": 8,
   "id": "e502b79d-d2d6-42d2-a6ca-3ffa530fe2df",
   "metadata": {},
   "outputs": [
    {
     "data": {
      "text/plain": [
       "5"
      ]
     },
     "execution_count": 8,
     "metadata": {},
     "output_type": "execute_result"
    }
   ],
   "source": [
    "myTuple[4]"
   ]
  },
  {
   "cell_type": "markdown",
   "id": "de75d64e-c67a-4f09-a88e-651c8d7a4f96",
   "metadata": {},
   "source": [
    "### slicing"
   ]
  },
  {
   "cell_type": "code",
   "execution_count": 9,
   "id": "ddf9f8e0-8945-46f8-abc8-d62f67863b89",
   "metadata": {},
   "outputs": [
    {
     "data": {
      "text/plain": [
       "(2, 3, 4)"
      ]
     },
     "execution_count": 9,
     "metadata": {},
     "output_type": "execute_result"
    }
   ],
   "source": [
    "myTuple[1:4]"
   ]
  },
  {
   "cell_type": "markdown",
   "id": "a8fe255c-b8cb-4b21-a1af-ba9c2096a967",
   "metadata": {},
   "source": [
    "### Concatenation"
   ]
  },
  {
   "cell_type": "code",
   "execution_count": 10,
   "id": "424572f4-a0e9-48ef-aca0-1e9a0f1d3c54",
   "metadata": {},
   "outputs": [
    {
     "name": "stdout",
     "output_type": "stream",
     "text": [
      "(1, 2, 3, 4, 5, 'hi')\n"
     ]
    }
   ],
   "source": [
    "print(myTuple)"
   ]
  },
  {
   "cell_type": "code",
   "execution_count": 11,
   "id": "b8304769-7a90-45ec-a1fb-315b169ffde3",
   "metadata": {},
   "outputs": [],
   "source": [
    "myTuple+=(True,False)"
   ]
  },
  {
   "cell_type": "code",
   "execution_count": 12,
   "id": "507e7d8b-bac3-441f-a71f-04453fdb49b1",
   "metadata": {},
   "outputs": [
    {
     "name": "stdout",
     "output_type": "stream",
     "text": [
      "(1, 2, 3, 4, 5, 'hi', True, False)\n"
     ]
    }
   ],
   "source": [
    "print(myTuple)"
   ]
  },
  {
   "cell_type": "markdown",
   "id": "26e1f73e-2d7e-4549-af52-16cae22ae8a3",
   "metadata": {},
   "source": [
    "### multiplication"
   ]
  },
  {
   "cell_type": "code",
   "execution_count": 25,
   "id": "e56ed647-9364-4e69-bfc3-cada8be630e7",
   "metadata": {},
   "outputs": [
    {
     "data": {
      "text/plain": [
       "(2, 3, 4, 2, 3, 4)"
      ]
     },
     "execution_count": 25,
     "metadata": {},
     "output_type": "execute_result"
    }
   ],
   "source": [
    "myTuple[1:4]*2"
   ]
  },
  {
   "cell_type": "markdown",
   "id": "bbf67fdf-fec7-4c61-bd06-1f54416a7d0f",
   "metadata": {},
   "source": [
    "## Dictionary:\n",
    "- unordered collection of data values.\n",
    "- like a map\n",
    "- key - value pair\n",
    "- must have unique keys and can have duplicate values."
   ]
  },
  {
   "cell_type": "code",
   "execution_count": 58,
   "id": "8be2c8f1-17ea-4565-9e61-5867a2163758",
   "metadata": {},
   "outputs": [],
   "source": [
    "myDict = {1:'First', 2:'Second','Third':3}"
   ]
  },
  {
   "cell_type": "code",
   "execution_count": 59,
   "id": "3bf5e02d-6b26-49c2-905a-a508f06286be",
   "metadata": {},
   "outputs": [
    {
     "name": "stdout",
     "output_type": "stream",
     "text": [
      "{1: 'First', 2: 'Second', 'Third': 3}\n"
     ]
    }
   ],
   "source": [
    "print(myDict)"
   ]
  },
  {
   "cell_type": "code",
   "execution_count": 60,
   "id": "81c65bd0-1404-4db3-9914-8a66b9e7e424",
   "metadata": {},
   "outputs": [
    {
     "name": "stdout",
     "output_type": "stream",
     "text": [
      "{'first': 1, 'second': 2, 'third': 3}\n"
     ]
    }
   ],
   "source": [
    "# creating dictionary using 'dict' keyword\n",
    "myDict2 = dict([('first',1),('second',2),('third',3)]);\n",
    "print(myDict2)"
   ]
  },
  {
   "cell_type": "markdown",
   "id": "6565727b-c5d6-4b0c-819b-53c3c6deef34",
   "metadata": {},
   "source": [
    "### indexing\n",
    "- The python Dictionary object provides a key:value indexing facility.\n",
    "- The values in the dictionary are indexed by keys, they are not held in any order."
   ]
  },
  {
   "cell_type": "code",
   "execution_count": 61,
   "id": "b7d783f4-3eca-4732-bc9f-c84a1bd6fb54",
   "metadata": {},
   "outputs": [
    {
     "data": {
      "text/plain": [
       "'First'"
      ]
     },
     "execution_count": 61,
     "metadata": {},
     "output_type": "execute_result"
    }
   ],
   "source": [
    "myDict[1]"
   ]
  },
  {
   "cell_type": "code",
   "execution_count": 62,
   "id": "c0538b4e-79ad-43e2-984b-e158e624a137",
   "metadata": {},
   "outputs": [
    {
     "ename": "KeyError",
     "evalue": "3",
     "output_type": "error",
     "traceback": [
      "\u001b[1;31m---------------------------------------------------------------------------\u001b[0m",
      "\u001b[1;31mKeyError\u001b[0m                                  Traceback (most recent call last)",
      "Cell \u001b[1;32mIn[62], line 1\u001b[0m\n\u001b[1;32m----> 1\u001b[0m \u001b[43mmyDict\u001b[49m\u001b[43m[\u001b[49m\u001b[38;5;241;43m3\u001b[39;49m\u001b[43m]\u001b[49m \u001b[38;5;66;03m# key error \u001b[39;00m\n",
      "\u001b[1;31mKeyError\u001b[0m: 3"
     ]
    }
   ],
   "source": [
    "myDict[3] # key error "
   ]
  },
  {
   "cell_type": "markdown",
   "id": "74cae8a2-289f-4af6-8b46-1239d824cab6",
   "metadata": {},
   "source": [
    "### Dictionary Methods"
   ]
  },
  {
   "cell_type": "code",
   "execution_count": 64,
   "id": "1a548141-b1d4-4576-a561-03083e5370e9",
   "metadata": {},
   "outputs": [
    {
     "name": "stdout",
     "output_type": "stream",
     "text": [
      "{}\n"
     ]
    }
   ],
   "source": [
    "### Dictionay methods\n",
    "myDict.clear()\n",
    "print(myDict)"
   ]
  },
  {
   "cell_type": "code",
   "execution_count": 86,
   "id": "483f2506-7390-40bf-8fe2-32306a708a74",
   "metadata": {},
   "outputs": [
    {
     "name": "stdout",
     "output_type": "stream",
     "text": [
      "{1: 'first', 'second': 2, 3: 'third'}\n"
     ]
    }
   ],
   "source": [
    "myDict = {1:'first', 'second':2, 3:'third'};\n",
    "print(myDict)"
   ]
  },
  {
   "cell_type": "code",
   "execution_count": 87,
   "id": "e0ff3c1b-7e02-416d-a399-f99e3d526534",
   "metadata": {},
   "outputs": [
    {
     "name": "stdout",
     "output_type": "stream",
     "text": [
      "{1: 'first', 'second': 2, 3: 'third', 'five': 5}\n"
     ]
    }
   ],
   "source": [
    "myDict['five']=5\n",
    "print(myDict)"
   ]
  },
  {
   "cell_type": "code",
   "execution_count": 88,
   "id": "d5210aa0-7925-4c7b-88a3-9d0fe007d27a",
   "metadata": {},
   "outputs": [
    {
     "name": "stdout",
     "output_type": "stream",
     "text": [
      "{1: 'first', 'second': 2, 3: 'third', 'five': 5, 'six': 6}\n"
     ]
    }
   ],
   "source": [
    "myDict.update(six=6)\n",
    "print(myDict)"
   ]
  },
  {
   "cell_type": "code",
   "execution_count": 89,
   "id": "db40a909-a860-4489-b8cd-6312a48d918d",
   "metadata": {},
   "outputs": [
    {
     "data": {
      "text/plain": [
       "[1, 'second', 3, 'five', 'six']"
      ]
     },
     "execution_count": 89,
     "metadata": {},
     "output_type": "execute_result"
    }
   ],
   "source": [
    "list(myDict)"
   ]
  },
  {
   "cell_type": "code",
   "execution_count": 90,
   "id": "73e3c9ea-09e4-403a-ae76-0601a2b561d9",
   "metadata": {},
   "outputs": [
    {
     "data": {
      "text/plain": [
       "5"
      ]
     },
     "execution_count": 90,
     "metadata": {},
     "output_type": "execute_result"
    }
   ],
   "source": [
    "len(myDict)"
   ]
  },
  {
   "cell_type": "code",
   "execution_count": 94,
   "id": "96418d66-df5b-4458-bb3f-ad41d79ff1e2",
   "metadata": {},
   "outputs": [
    {
     "data": {
      "text/plain": [
       "5"
      ]
     },
     "execution_count": 94,
     "metadata": {},
     "output_type": "execute_result"
    }
   ],
   "source": [
    "myDict.get('five')  # access a value for a key"
   ]
  },
  {
   "cell_type": "code",
   "execution_count": 92,
   "id": "9b14f67f-3cb1-474c-a5f6-21ba987e85fa",
   "metadata": {},
   "outputs": [
    {
     "data": {
      "text/plain": [
       "dict_keys([1, 'second', 3, 'five', 'six'])"
      ]
     },
     "execution_count": 92,
     "metadata": {},
     "output_type": "execute_result"
    }
   ],
   "source": [
    "myDict.keys()"
   ]
  },
  {
   "cell_type": "code",
   "execution_count": 95,
   "id": "f6e08b07-16ab-4826-bf36-f35e1c8ebfc7",
   "metadata": {},
   "outputs": [
    {
     "data": {
      "text/plain": [
       "dict_items([(1, 'first'), ('second', 2), (3, 'third'), ('five', 5), ('six', 6)])"
      ]
     },
     "execution_count": 95,
     "metadata": {},
     "output_type": "execute_result"
    }
   ],
   "source": [
    "myDict.items() # returns a list of (key,value) tuple pairs"
   ]
  },
  {
   "cell_type": "code",
   "execution_count": 102,
   "id": "7312b12c-b230-4bac-bdde-c7e227aefa00",
   "metadata": {},
   "outputs": [
    {
     "name": "stdout",
     "output_type": "stream",
     "text": [
      "{1: 'first', 'second': 2, 3: 'third', 'five': 5, 'six': 6}\n",
      "{1: 'first', 'second': 2, 'five': 5, 'six': 6}\n"
     ]
    }
   ],
   "source": [
    "print(myDict)\n",
    "myDict.pop(3)  # deleting the key 3\n",
    "print(myDict)"
   ]
  },
  {
   "cell_type": "code",
   "execution_count": 103,
   "id": "5047dda2-9df5-4ad8-8afd-c77fd6f04b80",
   "metadata": {},
   "outputs": [
    {
     "ename": "KeyError",
     "evalue": "3",
     "output_type": "error",
     "traceback": [
      "\u001b[1;31m---------------------------------------------------------------------------\u001b[0m",
      "\u001b[1;31mKeyError\u001b[0m                                  Traceback (most recent call last)",
      "Cell \u001b[1;32mIn[103], line 1\u001b[0m\n\u001b[1;32m----> 1\u001b[0m \u001b[43mmyDict\u001b[49m\u001b[38;5;241;43m.\u001b[39;49m\u001b[43mpop\u001b[49m\u001b[43m(\u001b[49m\u001b[38;5;241;43m3\u001b[39;49m\u001b[43m)\u001b[49m\n",
      "\u001b[1;31mKeyError\u001b[0m: 3"
     ]
    }
   ],
   "source": [
    "myDict.pop(3)"
   ]
  },
  {
   "cell_type": "code",
   "execution_count": 113,
   "id": "4999d7ca-b154-42df-9087-aa3f0456c398",
   "metadata": {},
   "outputs": [
    {
     "ename": "AttributeError",
     "evalue": "'dict' object has no attribute 'remove'",
     "output_type": "error",
     "traceback": [
      "\u001b[1;31m---------------------------------------------------------------------------\u001b[0m",
      "\u001b[1;31mAttributeError\u001b[0m                            Traceback (most recent call last)",
      "Cell \u001b[1;32mIn[113], line 1\u001b[0m\n\u001b[1;32m----> 1\u001b[0m \u001b[43mmyDict\u001b[49m\u001b[38;5;241;43m.\u001b[39;49m\u001b[43mremove\u001b[49m(\u001b[38;5;241m6\u001b[39m)\n\u001b[0;32m      2\u001b[0m \u001b[38;5;28mprint\u001b[39m(myDict)\n",
      "\u001b[1;31mAttributeError\u001b[0m: 'dict' object has no attribute 'remove'"
     ]
    }
   ],
   "source": [
    "myDict.remove(6)\n",
    "print(myDict)"
   ]
  },
  {
   "cell_type": "markdown",
   "id": "d840e151-5541-4ab1-8ee6-389dc74e22cf",
   "metadata": {},
   "source": [
    "## Set:\n",
    "- unordered collection of multi-type immutable objects\n",
    "- can't contain duplicate values"
   ]
  },
  {
   "cell_type": "code",
   "execution_count": 13,
   "id": "e79c28ba-9eae-4e94-93a3-fff31027ae17",
   "metadata": {},
   "outputs": [
    {
     "name": "stdout",
     "output_type": "stream",
     "text": [
      "{1, 3, (2, 5, False), 'Ram'}\n"
     ]
    }
   ],
   "source": [
    "mySet = {1,3,True,'Ram',(2,5,False)}\n",
    "print(mySet)"
   ]
  },
  {
   "cell_type": "code",
   "execution_count": 14,
   "id": "bbb4fd69-143f-46c3-8653-c34a82893c73",
   "metadata": {},
   "outputs": [
    {
     "data": {
      "text/plain": [
       "{'a', 'e', 'l', 'm', 'p', 'x'}"
      ]
     },
     "execution_count": 14,
     "metadata": {},
     "output_type": "execute_result"
    }
   ],
   "source": [
    "set('example')"
   ]
  },
  {
   "cell_type": "code",
   "execution_count": 15,
   "id": "7cc7d4f2-35a7-4196-b507-8290f7620cfa",
   "metadata": {},
   "outputs": [
    {
     "data": {
      "text/plain": [
       "{1, 6, 'Ram'}"
      ]
     },
     "execution_count": 15,
     "metadata": {},
     "output_type": "execute_result"
    }
   ],
   "source": [
    "set([1,6,6,True,'Ram'])"
   ]
  },
  {
   "cell_type": "markdown",
   "id": "780f2a6c-6cc7-4e15-a2c3-588915c7120e",
   "metadata": {},
   "source": [
    "### indexing"
   ]
  },
  {
   "cell_type": "code",
   "execution_count": 47,
   "id": "212e8da2-c9f9-467f-8e29-8101870dbae0",
   "metadata": {},
   "outputs": [
    {
     "ename": "AttributeError",
     "evalue": "'set' object has no attribute 'index'",
     "output_type": "error",
     "traceback": [
      "\u001b[1;31m---------------------------------------------------------------------------\u001b[0m",
      "\u001b[1;31mAttributeError\u001b[0m                            Traceback (most recent call last)",
      "Cell \u001b[1;32mIn[47], line 1\u001b[0m\n\u001b[1;32m----> 1\u001b[0m \u001b[43mmySet\u001b[49m\u001b[38;5;241;43m.\u001b[39;49m\u001b[43mindex\u001b[49m(\u001b[38;5;241m3\u001b[39m)  \u001b[38;5;66;03m# attribute error => set object has no attribute 'index'\u001b[39;00m\n",
      "\u001b[1;31mAttributeError\u001b[0m: 'set' object has no attribute 'index'"
     ]
    }
   ],
   "source": [
    "mySet.index(3)  # attribute error => set object has no attribute 'index'"
   ]
  },
  {
   "cell_type": "code",
   "execution_count": 46,
   "id": "8b621b67-4a68-4e38-9ec5-594ff57e654e",
   "metadata": {
    "scrolled": true
   },
   "outputs": [
    {
     "ename": "TypeError",
     "evalue": "'set' object is not subscriptable",
     "output_type": "error",
     "traceback": [
      "\u001b[1;31m---------------------------------------------------------------------------\u001b[0m",
      "\u001b[1;31mTypeError\u001b[0m                                 Traceback (most recent call last)",
      "Cell \u001b[1;32mIn[46], line 1\u001b[0m\n\u001b[1;32m----> 1\u001b[0m \u001b[43mmySet\u001b[49m\u001b[43m[\u001b[49m\u001b[38;5;241;43m3\u001b[39;49m\u001b[43m]\u001b[49m \u001b[38;5;66;03m# type error => set object is not subscriptable\u001b[39;00m\n",
      "\u001b[1;31mTypeError\u001b[0m: 'set' object is not subscriptable"
     ]
    }
   ],
   "source": [
    "mySet[3] # type error => set object is not subscriptable"
   ]
  },
  {
   "cell_type": "markdown",
   "id": "abfb2ff4-395b-4fc7-be18-ce3b69669978",
   "metadata": {},
   "source": [
    "### Concatenation"
   ]
  },
  {
   "cell_type": "code",
   "execution_count": 65,
   "id": "9a5cbeb2-cabc-4e39-b2bb-59a81605957b",
   "metadata": {},
   "outputs": [
    {
     "name": "stdout",
     "output_type": "stream",
     "text": [
      "({1, 3, (2, 5, False), 'Ram'}, {False, 'Sita'})\n"
     ]
    }
   ],
   "source": [
    "print(mySet)"
   ]
  },
  {
   "cell_type": "code",
   "execution_count": 66,
   "id": "464746df-22bb-4df8-b09d-3b9d6f02bbe4",
   "metadata": {},
   "outputs": [
    {
     "ename": "TypeError",
     "evalue": "can only concatenate tuple (not \"set\") to tuple",
     "output_type": "error",
     "traceback": [
      "\u001b[1;31m---------------------------------------------------------------------------\u001b[0m",
      "\u001b[1;31mTypeError\u001b[0m                                 Traceback (most recent call last)",
      "Cell \u001b[1;32mIn[66], line 1\u001b[0m\n\u001b[1;32m----> 1\u001b[0m mySet\u001b[38;5;241m=\u001b[39m\u001b[43mmySet\u001b[49m\u001b[38;5;241;43m+\u001b[39;49m\u001b[43m{\u001b[49m\u001b[38;5;124;43m'\u001b[39;49m\u001b[38;5;124;43mSita\u001b[39;49m\u001b[38;5;124;43m'\u001b[39;49m\u001b[43m,\u001b[49m\u001b[38;5;28;43;01mFalse\u001b[39;49;00m\u001b[43m}\u001b[49m\n\u001b[0;32m      2\u001b[0m \u001b[38;5;28mprint\u001b[39m(mySet)\n",
      "\u001b[1;31mTypeError\u001b[0m: can only concatenate tuple (not \"set\") to tuple"
     ]
    }
   ],
   "source": [
    "mySet=mySet+{'Sita',False}\n",
    "print(mySet)"
   ]
  },
  {
   "cell_type": "code",
   "execution_count": 67,
   "id": "633affb4-129d-4b03-b53d-5519da4bb084",
   "metadata": {},
   "outputs": [
    {
     "name": "stdout",
     "output_type": "stream",
     "text": [
      "(({1, 3, (2, 5, False), 'Ram'}, {False, 'Sita'}), {False, 'Sita'})\n"
     ]
    }
   ],
   "source": [
    "mySet = mySet,{'Sita',False}\n",
    "print(mySet)"
   ]
  },
  {
   "cell_type": "markdown",
   "id": "5e9179e2-2b9d-4639-aac3-67b8be7bac7c",
   "metadata": {},
   "source": [
    "### set methods"
   ]
  },
  {
   "cell_type": "code",
   "execution_count": 71,
   "id": "0648086d-123a-45d6-9378-68e39fca5d35",
   "metadata": {},
   "outputs": [
    {
     "name": "stdout",
     "output_type": "stream",
     "text": [
      "{1, 2, 3, 'Ram'}\n"
     ]
    }
   ],
   "source": [
    "mySet1 = {1,2,3,'Ram',True}\n",
    "print(mySet1)"
   ]
  },
  {
   "cell_type": "code",
   "execution_count": 73,
   "id": "b48436b6-925e-42e3-ae55-d86a99a264dd",
   "metadata": {},
   "outputs": [
    {
     "name": "stdout",
     "output_type": "stream",
     "text": [
      "set()\n"
     ]
    }
   ],
   "source": [
    "mySet1.clear()\n",
    "print(mySet1)"
   ]
  },
  {
   "cell_type": "code",
   "execution_count": 85,
   "id": "923ee171-3f56-4196-bd38-57f7bf365df4",
   "metadata": {
    "scrolled": true
   },
   "outputs": [
    {
     "ename": "AttributeError",
     "evalue": "'set' object has no attribute 'append'",
     "output_type": "error",
     "traceback": [
      "\u001b[1;31m---------------------------------------------------------------------------\u001b[0m",
      "\u001b[1;31mAttributeError\u001b[0m                            Traceback (most recent call last)",
      "Cell \u001b[1;32mIn[85], line 1\u001b[0m\n\u001b[1;32m----> 1\u001b[0m \u001b[43mmySet1\u001b[49m\u001b[38;5;241;43m.\u001b[39;49m\u001b[43mappend\u001b[49m(\u001b[38;5;241m5\u001b[39m) \u001b[38;5;66;03m# attribute error => set object has no attribute 'append'\u001b[39;00m\n",
      "\u001b[1;31mAttributeError\u001b[0m: 'set' object has no attribute 'append'"
     ]
    }
   ],
   "source": [
    "mySet1.append(5) # attribute error => set object has no attribute 'append'"
   ]
  },
  {
   "cell_type": "markdown",
   "id": "2a29979c-a0dc-46eb-bbd8-57205c5bd107",
   "metadata": {},
   "source": [
    "add() takes a single element as parameter which needs to be added to the set"
   ]
  },
  {
   "cell_type": "code",
   "execution_count": 82,
   "id": "8c0533bc-49ac-40bb-9401-5ac175d67050",
   "metadata": {},
   "outputs": [
    {
     "name": "stdout",
     "output_type": "stream",
     "text": [
      "{5}\n"
     ]
    }
   ],
   "source": [
    "mySet1.add(5);\n",
    "print(mySet1)"
   ]
  },
  {
   "cell_type": "code",
   "execution_count": 83,
   "id": "c02e465e-2c26-4faa-a0d2-392bf2426397",
   "metadata": {},
   "outputs": [
    {
     "ename": "TypeError",
     "evalue": "unhashable type: 'list'",
     "output_type": "error",
     "traceback": [
      "\u001b[1;31m---------------------------------------------------------------------------\u001b[0m",
      "\u001b[1;31mTypeError\u001b[0m                                 Traceback (most recent call last)",
      "Cell \u001b[1;32mIn[83], line 1\u001b[0m\n\u001b[1;32m----> 1\u001b[0m \u001b[43mmySet1\u001b[49m\u001b[38;5;241;43m.\u001b[39;49m\u001b[43madd\u001b[49m\u001b[43m(\u001b[49m\u001b[43m[\u001b[49m\u001b[38;5;241;43m3\u001b[39;49m\u001b[43m,\u001b[49m\u001b[38;5;241;43m4\u001b[39;49m\u001b[43m]\u001b[49m\u001b[43m)\u001b[49m;\n\u001b[0;32m      2\u001b[0m \u001b[38;5;28mprint\u001b[39m(mySet1)\n",
      "\u001b[1;31mTypeError\u001b[0m: unhashable type: 'list'"
     ]
    }
   ],
   "source": [
    "mySet1.add([3,4]);\n",
    "print(mySet1)"
   ]
  },
  {
   "cell_type": "markdown",
   "id": "e8f54974-33ee-456f-9381-06e5b7366ded",
   "metadata": {},
   "source": [
    "update() function takes a single argument which can be a set, list, tuples or a dictionary and automatically converts it into set and adds to the set"
   ]
  },
  {
   "cell_type": "code",
   "execution_count": 84,
   "id": "c7363a48-9abb-42bc-8a19-eb80990ce9e0",
   "metadata": {},
   "outputs": [
    {
     "name": "stdout",
     "output_type": "stream",
     "text": [
      "{3, 4, 5}\n"
     ]
    }
   ],
   "source": [
    "mySet1.update([3,4]);\n",
    "print(mySet1)"
   ]
  },
  {
   "cell_type": "code",
   "execution_count": 105,
   "id": "c204e740-4af5-4c9a-8810-f6bcc1d23467",
   "metadata": {},
   "outputs": [
    {
     "name": "stdout",
     "output_type": "stream",
     "text": [
      "{3, 4, 5}\n"
     ]
    }
   ],
   "source": [
    "print(mySet1)"
   ]
  },
  {
   "cell_type": "code",
   "execution_count": 106,
   "id": "c7b7d0ec-abf4-41d9-b9ed-a108328738ef",
   "metadata": {},
   "outputs": [
    {
     "name": "stdout",
     "output_type": "stream",
     "text": [
      "{3, 5}\n"
     ]
    }
   ],
   "source": [
    "mySet1.remove(4) # remove the element 4 from the set\n",
    "print(mySet1)"
   ]
  },
  {
   "cell_type": "code",
   "execution_count": 109,
   "id": "cea00e46-220d-4be7-9a24-1dd03951a207",
   "metadata": {},
   "outputs": [
    {
     "ename": "KeyError",
     "evalue": "7",
     "output_type": "error",
     "traceback": [
      "\u001b[1;31m---------------------------------------------------------------------------\u001b[0m",
      "\u001b[1;31mKeyError\u001b[0m                                  Traceback (most recent call last)",
      "Cell \u001b[1;32mIn[109], line 1\u001b[0m\n\u001b[1;32m----> 1\u001b[0m \u001b[43mmySet1\u001b[49m\u001b[38;5;241;43m.\u001b[39;49m\u001b[43mremove\u001b[49m\u001b[43m(\u001b[49m\u001b[38;5;241;43m7\u001b[39;49m\u001b[43m)\u001b[49m \u001b[38;5;66;03m# key error\u001b[39;00m\n",
      "\u001b[1;31mKeyError\u001b[0m: 7"
     ]
    }
   ],
   "source": [
    "mySet1.remove(7) # key error"
   ]
  },
  {
   "cell_type": "code",
   "execution_count": 110,
   "id": "2e28a106-c753-401a-a143-1952c3109526",
   "metadata": {},
   "outputs": [],
   "source": [
    "mySet1.discard(7) # The set remains unchanged if the element passed to discard() doesn't exist"
   ]
  },
  {
   "cell_type": "code",
   "execution_count": 125,
   "id": "34673a52-1351-41a5-88d0-dfcaeb02153f",
   "metadata": {},
   "outputs": [
    {
     "name": "stdout",
     "output_type": "stream",
     "text": [
      "{'example', 'data', 28.5, 1}\n",
      "{1, 'data'}\n"
     ]
    }
   ],
   "source": [
    "A = {1,'example',28.5,'data',1}\n",
    "print(A)\n",
    "B = {1,'data'}\n",
    "print(B)"
   ]
  },
  {
   "cell_type": "code",
   "execution_count": 126,
   "id": "509dde9d-8eac-4676-9108-0e7285e01a47",
   "metadata": {},
   "outputs": [
    {
     "name": "stdout",
     "output_type": "stream",
     "text": [
      "{'example', 1, 'data', 28.5}\n"
     ]
    },
    {
     "data": {
      "text/plain": [
       "{1, 28.5, 'data', 'example'}"
      ]
     },
     "execution_count": 126,
     "metadata": {},
     "output_type": "execute_result"
    }
   ],
   "source": [
    "# union\n",
    "print(A|B)\n",
    "A.union(B)"
   ]
  },
  {
   "cell_type": "code",
   "execution_count": 127,
   "id": "f0692726-1eb2-42fb-b738-fcb5314bc8d6",
   "metadata": {},
   "outputs": [
    {
     "name": "stdout",
     "output_type": "stream",
     "text": [
      "{1, 'data'}\n"
     ]
    },
    {
     "data": {
      "text/plain": [
       "{1, 'data'}"
      ]
     },
     "execution_count": 127,
     "metadata": {},
     "output_type": "execute_result"
    }
   ],
   "source": [
    "print(A&B)\n",
    "A.intersection(B)"
   ]
  },
  {
   "cell_type": "markdown",
   "id": "8d634ca6-507d-4973-b561-a85bc3e0cc6c",
   "metadata": {},
   "source": [
    "## Range"
   ]
  },
  {
   "cell_type": "code",
   "execution_count": 128,
   "id": "abec78ae-7da7-4b88-a5cb-2710e6d20fe7",
   "metadata": {},
   "outputs": [
    {
     "name": "stdout",
     "output_type": "stream",
     "text": [
      "1\n",
      "3\n",
      "5\n",
      "7\n",
      "9\n"
     ]
    }
   ],
   "source": [
    "myRange = range(1,10,2)\n",
    "for i in myRange:\n",
    "    print(i)"
   ]
  },
  {
   "cell_type": "markdown",
   "id": "e5cfcdd6-234f-4654-9055-a09d8cde34d6",
   "metadata": {},
   "source": [
    "### indexing"
   ]
  },
  {
   "cell_type": "code",
   "execution_count": 129,
   "id": "07636846-1f70-466c-9dff-b27b2e6f7160",
   "metadata": {},
   "outputs": [
    {
     "data": {
      "text/plain": [
       "2"
      ]
     },
     "execution_count": 129,
     "metadata": {},
     "output_type": "execute_result"
    }
   ],
   "source": [
    "myRange.index(5)"
   ]
  },
  {
   "cell_type": "code",
   "execution_count": 130,
   "id": "a2ed36c6-c33f-4e51-97f3-f672c952a254",
   "metadata": {},
   "outputs": [
    {
     "data": {
      "text/plain": [
       "7"
      ]
     },
     "execution_count": 130,
     "metadata": {},
     "output_type": "execute_result"
    }
   ],
   "source": [
    "myRange[3]"
   ]
  },
  {
   "cell_type": "markdown",
   "id": "11484875-8717-4d45-9d85-88d046a234fe",
   "metadata": {},
   "source": [
    "### slicing"
   ]
  },
  {
   "cell_type": "code",
   "execution_count": 131,
   "id": "b565b91f-44e1-4a18-b29c-a3cafe1cd70e",
   "metadata": {},
   "outputs": [
    {
     "data": {
      "text/plain": [
       "range(1, 9, 2)"
      ]
     },
     "execution_count": 131,
     "metadata": {},
     "output_type": "execute_result"
    }
   ],
   "source": [
    "myRange[:-1]"
   ]
  },
  {
   "cell_type": "markdown",
   "id": "6ee3162d-e2df-457c-9edc-3f0a69e420f6",
   "metadata": {},
   "source": [
    "## del : deletes the entire object of any data type\n",
    "- syntax : del obj_name\n",
    "- del is a python keyword\n",
    "- obj_name can be variables, user-defined objects, lists, items within lists, dictionaries etc."
   ]
  },
  {
   "cell_type": "code",
   "execution_count": 114,
   "id": "ab91d382-eb7b-4b7e-a8b4-7f720b70ddaa",
   "metadata": {},
   "outputs": [
    {
     "ename": "NameError",
     "evalue": "name 'mySet1' is not defined",
     "output_type": "error",
     "traceback": [
      "\u001b[1;31m---------------------------------------------------------------------------\u001b[0m",
      "\u001b[1;31mNameError\u001b[0m                                 Traceback (most recent call last)",
      "Cell \u001b[1;32mIn[114], line 2\u001b[0m\n\u001b[0;32m      1\u001b[0m \u001b[38;5;28;01mdel\u001b[39;00m mySet1\n\u001b[1;32m----> 2\u001b[0m \u001b[38;5;28mprint\u001b[39m(\u001b[43mmySet1\u001b[49m)\n",
      "\u001b[1;31mNameError\u001b[0m: name 'mySet1' is not defined"
     ]
    }
   ],
   "source": [
    "del mySet1\n",
    "print(mySet1)"
   ]
  },
  {
   "cell_type": "code",
   "execution_count": 115,
   "id": "a529ee1e-6e60-4991-b8a9-649015e8525d",
   "metadata": {},
   "outputs": [
    {
     "name": "stdout",
     "output_type": "stream",
     "text": [
      "[3.14, False, 'Rajeev', True, 1, 'HI']\n",
      "[3.14, False, True, 1, 'HI']\n"
     ]
    }
   ],
   "source": [
    "print(myList)\n",
    "del myList[2]\n",
    "print(myList)"
   ]
  },
  {
   "cell_type": "code",
   "execution_count": 116,
   "id": "4545fb44-308f-4851-b194-d318df84fa49",
   "metadata": {},
   "outputs": [
    {
     "name": "stdout",
     "output_type": "stream",
     "text": [
      "array('i', [1, 2, 3, 4, 5])\n",
      "array('i', [1, 2, 4, 5])\n"
     ]
    }
   ],
   "source": [
    "print(myArray)\n",
    "del myArray[2]\n",
    "print(myArray)"
   ]
  },
  {
   "cell_type": "code",
   "execution_count": 117,
   "id": "69ba94d9-381e-4d8d-b914-75d75cd49158",
   "metadata": {},
   "outputs": [
    {
     "name": "stdout",
     "output_type": "stream",
     "text": [
      "{1: 'first', 'second': 2, 'five': 5, 'six': 6}\n"
     ]
    }
   ],
   "source": [
    "print(myDict)"
   ]
  },
  {
   "cell_type": "code",
   "execution_count": 118,
   "id": "7afecf48-5a61-4cad-858e-a932f23cd996",
   "metadata": {},
   "outputs": [
    {
     "name": "stdout",
     "output_type": "stream",
     "text": [
      "{'second': 2, 'five': 5, 'six': 6}\n"
     ]
    }
   ],
   "source": [
    "del myDict[1]\n",
    "print(myDict)"
   ]
  },
  {
   "cell_type": "code",
   "execution_count": 119,
   "id": "05f5cb85-d1e3-4a97-944b-774235789916",
   "metadata": {},
   "outputs": [
    {
     "ename": "NameError",
     "evalue": "name 'myDict' is not defined",
     "output_type": "error",
     "traceback": [
      "\u001b[1;31m---------------------------------------------------------------------------\u001b[0m",
      "\u001b[1;31mNameError\u001b[0m                                 Traceback (most recent call last)",
      "Cell \u001b[1;32mIn[119], line 2\u001b[0m\n\u001b[0;32m      1\u001b[0m \u001b[38;5;28;01mdel\u001b[39;00m myDict\n\u001b[1;32m----> 2\u001b[0m \u001b[38;5;28mprint\u001b[39m(\u001b[43mmyDict\u001b[49m)\n",
      "\u001b[1;31mNameError\u001b[0m: name 'myDict' is not defined"
     ]
    }
   ],
   "source": [
    "del myDict\n",
    "print(myDict)"
   ]
  },
  {
   "cell_type": "code",
   "execution_count": null,
   "id": "7cfbd099-a5a5-474d-9fcf-3ae914d44ba8",
   "metadata": {},
   "outputs": [],
   "source": []
  }
 ],
 "metadata": {
  "kernelspec": {
   "display_name": "Python 3 (ipykernel)",
   "language": "python",
   "name": "python3"
  },
  "language_info": {
   "codemirror_mode": {
    "name": "ipython",
    "version": 3
   },
   "file_extension": ".py",
   "mimetype": "text/x-python",
   "name": "python",
   "nbconvert_exporter": "python",
   "pygments_lexer": "ipython3",
   "version": "3.11.5"
  }
 },
 "nbformat": 4,
 "nbformat_minor": 5
}
